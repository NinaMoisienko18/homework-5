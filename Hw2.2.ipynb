{
 "cells": [
  {
   "cell_type": "code",
   "execution_count": null,
   "id": "1f4d182f-f95b-49d4-b615-526a406c5651",
   "metadata": {
    "tags": []
   },
   "outputs": [],
   "source": []
  },
  {
   "cell_type": "code",
   "execution_count": 1,
   "id": "1dbd0bec-9bb6-49a3-a6c7-fb43bd41717a",
   "metadata": {
    "tags": []
   },
   "outputs": [],
   "source": [
    "import csv\n",
    "import pandas as pd\n",
    "import matplotlib.pyplot as plt\n",
    "import plotly.express as px\n",
    "import seaborn as sns"
   ]
  },
  {
   "cell_type": "markdown",
   "id": "67051f6a-71c6-45b3-a15a-94f4fb336253",
   "metadata": {},
   "source": [
    "Прочитайте файл 2017_jun_final.csv за допомогою методу read_csv\n"
   ]
  },
  {
   "cell_type": "code",
   "execution_count": 21,
   "id": "23ecc4b2-2bf0-4e89-b8e1-ffb94fe34945",
   "metadata": {
    "tags": []
   },
   "outputs": [
    {
     "data": {
      "text/plain": [
       "(8704, 25)"
      ]
     },
     "execution_count": 21,
     "metadata": {},
     "output_type": "execute_result"
    }
   ],
   "source": [
    "data = pd.read_csv(\"2017_jun_final - 2017_jun_final.csv\")\n",
    "data.shape"
   ]
  },
  {
   "cell_type": "markdown",
   "id": "15da4cf2-6b5d-4cd3-b0c0-c9140c9119cc",
   "metadata": {},
   "source": [
    "Прочитайте отриману таблицю, використовуючи метод head\n"
   ]
  },
  {
   "cell_type": "code",
   "execution_count": 3,
   "id": "6f932ac0-5e14-49ff-bb8c-d503d69b1b96",
   "metadata": {
    "tags": []
   },
   "outputs": [
    {
     "data": {
      "text/html": [
       "<div>\n",
       "<style scoped>\n",
       "    .dataframe tbody tr th:only-of-type {\n",
       "        vertical-align: middle;\n",
       "    }\n",
       "\n",
       "    .dataframe tbody tr th {\n",
       "        vertical-align: top;\n",
       "    }\n",
       "\n",
       "    .dataframe thead th {\n",
       "        text-align: right;\n",
       "    }\n",
       "</style>\n",
       "<table border=\"1\" class=\"dataframe\">\n",
       "  <thead>\n",
       "    <tr style=\"text-align: right;\">\n",
       "      <th></th>\n",
       "      <th>N</th>\n",
       "      <th>Посада</th>\n",
       "      <th>Мова програмування</th>\n",
       "      <th>Спеціалізація</th>\n",
       "      <th>Загальний досвід роботи</th>\n",
       "      <th>Досвід роботи на поточному місці</th>\n",
       "      <th>Зарплата на місяць</th>\n",
       "      <th>Зміна зарплати за 12 місяців</th>\n",
       "      <th>Місто</th>\n",
       "      <th>Розмір компанії</th>\n",
       "      <th>...</th>\n",
       "      <th>Ще студент</th>\n",
       "      <th>Рівень англійської</th>\n",
       "      <th>Предметна область</th>\n",
       "      <th>Дата заповнення</th>\n",
       "      <th>User.Agent</th>\n",
       "      <th>exp</th>\n",
       "      <th>current_job_exp</th>\n",
       "      <th>salary</th>\n",
       "      <th>Валюта</th>\n",
       "      <th>cls</th>\n",
       "    </tr>\n",
       "  </thead>\n",
       "  <tbody>\n",
       "    <tr>\n",
       "      <th>0</th>\n",
       "      <td>1</td>\n",
       "      <td>Junior QA engineer</td>\n",
       "      <td>NaN</td>\n",
       "      <td>Manual QA</td>\n",
       "      <td>0.5</td>\n",
       "      <td>0.5</td>\n",
       "      <td>400</td>\n",
       "      <td>0</td>\n",
       "      <td>Харків</td>\n",
       "      <td>до 10 осіб</td>\n",
       "      <td>...</td>\n",
       "      <td>True</td>\n",
       "      <td>Pre-intermediate (нище середнього)</td>\n",
       "      <td>iOS,eCommerce</td>\n",
       "      <td>12/06/2017 12:38:08</td>\n",
       "      <td>Mozilla/5.0 (Windows NT 10.0; Win64; x64) Appl...</td>\n",
       "      <td>0.5</td>\n",
       "      <td>0.5</td>\n",
       "      <td>400</td>\n",
       "      <td>NaN</td>\n",
       "      <td>QA</td>\n",
       "    </tr>\n",
       "    <tr>\n",
       "      <th>1</th>\n",
       "      <td>2</td>\n",
       "      <td>Junior QA engineer</td>\n",
       "      <td>NaN</td>\n",
       "      <td>Manual QA</td>\n",
       "      <td>менше 3 місяців</td>\n",
       "      <td>менше 3 місяців</td>\n",
       "      <td>430</td>\n",
       "      <td>130</td>\n",
       "      <td>Харків</td>\n",
       "      <td>більше 1000 осіб</td>\n",
       "      <td>...</td>\n",
       "      <td>True</td>\n",
       "      <td>Upper-Intermediate (вище середнього)</td>\n",
       "      <td>Веб-розробка</td>\n",
       "      <td>12/06/2017 12:42:51</td>\n",
       "      <td>Mozilla/5.0 (iPad; CPU OS 10_2_1 like Mac OS X...</td>\n",
       "      <td>0.0</td>\n",
       "      <td>0.0</td>\n",
       "      <td>430</td>\n",
       "      <td>NaN</td>\n",
       "      <td>QA</td>\n",
       "    </tr>\n",
       "    <tr>\n",
       "      <th>2</th>\n",
       "      <td>3</td>\n",
       "      <td>Software Engineer</td>\n",
       "      <td>C#/.NET</td>\n",
       "      <td>NaN</td>\n",
       "      <td>4</td>\n",
       "      <td>1</td>\n",
       "      <td>2500</td>\n",
       "      <td>800</td>\n",
       "      <td>Київ</td>\n",
       "      <td>до 1000 осіб</td>\n",
       "      <td>...</td>\n",
       "      <td>False</td>\n",
       "      <td>Intermediate (середній)</td>\n",
       "      <td>Веб-розробка,Корпоративні системи</td>\n",
       "      <td>12/06/2017 13:02:47</td>\n",
       "      <td>Mozilla/5.0 (Windows NT 10.0; Win64; x64) Appl...</td>\n",
       "      <td>4.0</td>\n",
       "      <td>1.0</td>\n",
       "      <td>2500</td>\n",
       "      <td>NaN</td>\n",
       "      <td>DEV</td>\n",
       "    </tr>\n",
       "    <tr>\n",
       "      <th>3</th>\n",
       "      <td>4</td>\n",
       "      <td>Software Engineer</td>\n",
       "      <td>JavaScript</td>\n",
       "      <td>NaN</td>\n",
       "      <td>5</td>\n",
       "      <td>4</td>\n",
       "      <td>2000</td>\n",
       "      <td>400</td>\n",
       "      <td>Одеса</td>\n",
       "      <td>до 200 осіб</td>\n",
       "      <td>...</td>\n",
       "      <td>False</td>\n",
       "      <td>Pre-intermediate (нище середнього)</td>\n",
       "      <td>Desktop Applications,Веб-розробка</td>\n",
       "      <td>12/06/2017 13:03:01</td>\n",
       "      <td>Mozilla/5.0 (Windows NT 6.1; Win64; x64) Apple...</td>\n",
       "      <td>5.0</td>\n",
       "      <td>4.0</td>\n",
       "      <td>2000</td>\n",
       "      <td>NaN</td>\n",
       "      <td>DEV</td>\n",
       "    </tr>\n",
       "    <tr>\n",
       "      <th>4</th>\n",
       "      <td>5</td>\n",
       "      <td>Senior Software Engineer</td>\n",
       "      <td>JavaScript</td>\n",
       "      <td>NaN</td>\n",
       "      <td>10 і більше років</td>\n",
       "      <td>0.5</td>\n",
       "      <td>4500</td>\n",
       "      <td>500</td>\n",
       "      <td>Інше</td>\n",
       "      <td>до 10 осіб</td>\n",
       "      <td>...</td>\n",
       "      <td>False</td>\n",
       "      <td>Intermediate (середній)</td>\n",
       "      <td>Desktop Applications,Веб-розробка</td>\n",
       "      <td>12/06/2017 13:03:47</td>\n",
       "      <td>Mozilla/5.0 (iPhone; CPU iPhone OS 10_3_2 like...</td>\n",
       "      <td>10.0</td>\n",
       "      <td>0.5</td>\n",
       "      <td>4500</td>\n",
       "      <td>NaN</td>\n",
       "      <td>DEV</td>\n",
       "    </tr>\n",
       "  </tbody>\n",
       "</table>\n",
       "<p>5 rows × 25 columns</p>\n",
       "</div>"
      ],
      "text/plain": [
       "   N                    Посада Мова програмування Спеціалізація  \\\n",
       "0  1        Junior QA engineer                NaN     Manual QA   \n",
       "1  2        Junior QA engineer                NaN     Manual QA   \n",
       "2  3         Software Engineer            C#/.NET           NaN   \n",
       "3  4         Software Engineer         JavaScript           NaN   \n",
       "4  5  Senior Software Engineer         JavaScript           NaN   \n",
       "\n",
       "  Загальний досвід роботи Досвід роботи на поточному місці  \\\n",
       "0                     0.5                              0.5   \n",
       "1         менше 3 місяців                  менше 3 місяців   \n",
       "2                       4                                1   \n",
       "3                       5                                4   \n",
       "4       10 і більше років                              0.5   \n",
       "\n",
       "   Зарплата на місяць  Зміна зарплати за 12 місяців   Місто   Розмір компанії  \\\n",
       "0                 400                             0  Харків        до 10 осіб   \n",
       "1                 430                           130  Харків  більше 1000 осіб   \n",
       "2                2500                           800    Київ      до 1000 осіб   \n",
       "3                2000                           400   Одеса       до 200 осіб   \n",
       "4                4500                           500    Інше        до 10 осіб   \n",
       "\n",
       "   ... Ще студент                    Рівень англійської  \\\n",
       "0  ...       True    Pre-intermediate (нище середнього)   \n",
       "1  ...       True  Upper-Intermediate (вище середнього)   \n",
       "2  ...      False               Intermediate (середній)   \n",
       "3  ...      False    Pre-intermediate (нище середнього)   \n",
       "4  ...      False               Intermediate (середній)   \n",
       "\n",
       "                   Предметна область      Дата заповнення  \\\n",
       "0                      iOS,eCommerce  12/06/2017 12:38:08   \n",
       "1                       Веб-розробка  12/06/2017 12:42:51   \n",
       "2  Веб-розробка,Корпоративні системи  12/06/2017 13:02:47   \n",
       "3  Desktop Applications,Веб-розробка  12/06/2017 13:03:01   \n",
       "4  Desktop Applications,Веб-розробка  12/06/2017 13:03:47   \n",
       "\n",
       "                                          User.Agent   exp current_job_exp  \\\n",
       "0  Mozilla/5.0 (Windows NT 10.0; Win64; x64) Appl...   0.5             0.5   \n",
       "1  Mozilla/5.0 (iPad; CPU OS 10_2_1 like Mac OS X...   0.0             0.0   \n",
       "2  Mozilla/5.0 (Windows NT 10.0; Win64; x64) Appl...   4.0             1.0   \n",
       "3  Mozilla/5.0 (Windows NT 6.1; Win64; x64) Apple...   5.0             4.0   \n",
       "4  Mozilla/5.0 (iPhone; CPU iPhone OS 10_3_2 like...  10.0             0.5   \n",
       "\n",
       "  salary Валюта  cls  \n",
       "0    400    NaN   QA  \n",
       "1    430    NaN   QA  \n",
       "2   2500    NaN  DEV  \n",
       "3   2000    NaN  DEV  \n",
       "4   4500    NaN  DEV  \n",
       "\n",
       "[5 rows x 25 columns]"
      ]
     },
     "execution_count": 3,
     "metadata": {},
     "output_type": "execute_result"
    }
   ],
   "source": [
    "data.head()"
   ]
  },
  {
   "cell_type": "markdown",
   "id": "c83cb3bf-95bb-468f-9b28-0e8f064a65cb",
   "metadata": {},
   "source": [
    "Визначте розмір таблиці за допомогою методу shape\n"
   ]
  },
  {
   "cell_type": "code",
   "execution_count": 4,
   "id": "2d28107f-6441-46db-87ef-06642b77f55a",
   "metadata": {
    "tags": []
   },
   "outputs": [
    {
     "data": {
      "text/plain": [
       "(8704, 25)"
      ]
     },
     "execution_count": 4,
     "metadata": {},
     "output_type": "execute_result"
    }
   ],
   "source": [
    "data.shape"
   ]
  },
  {
   "cell_type": "markdown",
   "id": "1cbbd784-8b7b-4dcf-bb58-c8bfb95a3cb0",
   "metadata": {},
   "source": [
    "Визначте типи всіх стовпців за допомогою dataframe.dtypes\n"
   ]
  },
  {
   "cell_type": "code",
   "execution_count": 5,
   "id": "0dd997b3-05d6-45ac-88a6-4b88ebf1c9be",
   "metadata": {
    "tags": []
   },
   "outputs": [
    {
     "data": {
      "text/plain": [
       "N                                     int64\n",
       "Посада                               object\n",
       "Мова програмування                   object\n",
       "Спеціалізація                        object\n",
       "Загальний досвід роботи              object\n",
       "Досвід роботи на поточному місці     object\n",
       "Зарплата на місяць                    int64\n",
       "Зміна зарплати за 12 місяців          int64\n",
       "Місто                                object\n",
       "Розмір компанії                      object\n",
       "Тип компанії                         object\n",
       "Стать                                object\n",
       "Вік                                   int64\n",
       "Освіта                               object\n",
       "Університет                          object\n",
       "Ще студент                             bool\n",
       "Рівень англійської                   object\n",
       "Предметна область                    object\n",
       "Дата заповнення                      object\n",
       "User.Agent                           object\n",
       "exp                                 float64\n",
       "current_job_exp                     float64\n",
       "salary                                int64\n",
       "Валюта                               object\n",
       "cls                                  object\n",
       "dtype: object"
      ]
     },
     "execution_count": 5,
     "metadata": {},
     "output_type": "execute_result"
    }
   ],
   "source": [
    "data.dtypes"
   ]
  },
  {
   "cell_type": "markdown",
   "id": "17610d5b-a686-4d98-8d0e-b79117a88f22",
   "metadata": {},
   "source": [
    "Порахуйте, яка частка пропусків міститься в кожній колонці (використовуйте методи isnull та sum)"
   ]
  },
  {
   "cell_type": "code",
   "execution_count": 6,
   "id": "b6c90678-f323-40ee-906a-14918ffea088",
   "metadata": {
    "tags": []
   },
   "outputs": [
    {
     "name": "stdout",
     "output_type": "stream",
     "text": [
      "Кількість пропускіів N                                      0\n",
      "Посада                                 0\n",
      "Мова програмування                  3850\n",
      "Спеціалізація                       7219\n",
      "Загальний досвід роботи                0\n",
      "Досвід роботи на поточному місці       0\n",
      "Зарплата на місяць                     0\n",
      "Зміна зарплати за 12 місяців           0\n",
      "Місто                                  0\n",
      "Розмір компанії                        0\n",
      "Тип компанії                           0\n",
      "Стать                                  0\n",
      "Вік                                    0\n",
      "Освіта                                 0\n",
      "Університет                          358\n",
      "Ще студент                             0\n",
      "Рівень англійської                     0\n",
      "Предметна область                    223\n",
      "Дата заповнення                        0\n",
      "User.Agent                             0\n",
      "exp                                    0\n",
      "current_job_exp                        0\n",
      "salary                                 0\n",
      "Валюта                              8694\n",
      "cls                                 1574\n",
      "dtype: int64\n",
      "\n",
      "Загальна к-сть рядків ---> 8704\n",
      "\n",
      "Частка пропусків у кожній колонці:\n",
      " Посада                              0.0000\n",
      "Мова програмування                  0.4423\n",
      "Спеціалізація                       0.8294\n",
      "Загальний досвід роботи             0.0000\n",
      "Досвід роботи на поточному місці    0.0000\n",
      "Зарплата на місяць                  0.0000\n",
      "Зміна зарплати за 12 місяців        0.0000\n",
      "Місто                               0.0000\n",
      "Розмір компанії                     0.0000\n",
      "Тип компанії                        0.0000\n",
      "Стать                               0.0000\n",
      "Вік                                 0.0000\n",
      "Освіта                              0.0000\n",
      "Університет                         0.0411\n",
      "Ще студент                          0.0000\n",
      "Рівень англійської                  0.0000\n",
      "Предметна область                   0.0256\n",
      "Дата заповнення                     0.0000\n",
      "User.Agent                          0.0000\n",
      "exp                                 0.0000\n",
      "current_job_exp                     0.0000\n",
      "salary                              0.0000\n",
      "Валюта                              0.9989\n",
      "cls                                 0.1808\n",
      "dtype: float64\n"
     ]
    }
   ],
   "source": [
    "count_of_unfilled_rows = data.isnull().sum()\n",
    "print(\"Кількість пропускіів\", count_of_unfilled_rows)\n",
    "total_rows = len(data)\n",
    "print(\"\\nЗагальна к-сть рядків --->\", total_rows)\n",
    "level = count_of_unfilled_rows / total_rows\n",
    "print(\"\\nЧастка пропусків у кожній колонці:\\n\", level[1:].round(4))"
   ]
  },
  {
   "cell_type": "markdown",
   "id": "a960096c-d110-4751-bbe0-6572a9c4781b",
   "metadata": {},
   "source": [
    "Видаліть усі стовпці з пропусками, крім стовпця \"Мова програмування\"\n"
   ]
  },
  {
   "cell_type": "code",
   "execution_count": 23,
   "id": "c68cc495-da7a-42e5-9c2e-383d0dc23720",
   "metadata": {
    "tags": []
   },
   "outputs": [
    {
     "data": {
      "text/html": [
       "<div>\n",
       "<style scoped>\n",
       "    .dataframe tbody tr th:only-of-type {\n",
       "        vertical-align: middle;\n",
       "    }\n",
       "\n",
       "    .dataframe tbody tr th {\n",
       "        vertical-align: top;\n",
       "    }\n",
       "\n",
       "    .dataframe thead th {\n",
       "        text-align: right;\n",
       "    }\n",
       "</style>\n",
       "<table border=\"1\" class=\"dataframe\">\n",
       "  <thead>\n",
       "    <tr style=\"text-align: right;\">\n",
       "      <th></th>\n",
       "      <th>N</th>\n",
       "      <th>Посада</th>\n",
       "      <th>Мова програмування</th>\n",
       "      <th>Загальний досвід роботи</th>\n",
       "      <th>Досвід роботи на поточному місці</th>\n",
       "      <th>Зарплата на місяць</th>\n",
       "      <th>Зміна зарплати за 12 місяців</th>\n",
       "      <th>Місто</th>\n",
       "      <th>Розмір компанії</th>\n",
       "      <th>Тип компанії</th>\n",
       "      <th>Стать</th>\n",
       "      <th>Вік</th>\n",
       "      <th>Освіта</th>\n",
       "      <th>Ще студент</th>\n",
       "      <th>Рівень англійської</th>\n",
       "      <th>Дата заповнення</th>\n",
       "      <th>User.Agent</th>\n",
       "      <th>exp</th>\n",
       "      <th>current_job_exp</th>\n",
       "      <th>salary</th>\n",
       "    </tr>\n",
       "  </thead>\n",
       "  <tbody>\n",
       "    <tr>\n",
       "      <th>0</th>\n",
       "      <td>1</td>\n",
       "      <td>Junior QA engineer</td>\n",
       "      <td>NaN</td>\n",
       "      <td>0.5</td>\n",
       "      <td>0.5</td>\n",
       "      <td>400</td>\n",
       "      <td>0</td>\n",
       "      <td>Харків</td>\n",
       "      <td>до 10 осіб</td>\n",
       "      <td>Аутсорсингова</td>\n",
       "      <td>жіноча</td>\n",
       "      <td>20</td>\n",
       "      <td>Неповна Вища</td>\n",
       "      <td>True</td>\n",
       "      <td>Pre-intermediate (нище середнього)</td>\n",
       "      <td>12/06/2017 12:38:08</td>\n",
       "      <td>Mozilla/5.0 (Windows NT 10.0; Win64; x64) Appl...</td>\n",
       "      <td>0.5</td>\n",
       "      <td>0.5</td>\n",
       "      <td>400</td>\n",
       "    </tr>\n",
       "    <tr>\n",
       "      <th>1</th>\n",
       "      <td>2</td>\n",
       "      <td>Junior QA engineer</td>\n",
       "      <td>NaN</td>\n",
       "      <td>менше 3 місяців</td>\n",
       "      <td>менше 3 місяців</td>\n",
       "      <td>430</td>\n",
       "      <td>130</td>\n",
       "      <td>Харків</td>\n",
       "      <td>більше 1000 осіб</td>\n",
       "      <td>Аутсорсингова</td>\n",
       "      <td>жіноча</td>\n",
       "      <td>21</td>\n",
       "      <td>Неповна Вища</td>\n",
       "      <td>True</td>\n",
       "      <td>Upper-Intermediate (вище середнього)</td>\n",
       "      <td>12/06/2017 12:42:51</td>\n",
       "      <td>Mozilla/5.0 (iPad; CPU OS 10_2_1 like Mac OS X...</td>\n",
       "      <td>0.0</td>\n",
       "      <td>0.0</td>\n",
       "      <td>430</td>\n",
       "    </tr>\n",
       "    <tr>\n",
       "      <th>2</th>\n",
       "      <td>3</td>\n",
       "      <td>Software Engineer</td>\n",
       "      <td>C#/.NET</td>\n",
       "      <td>4</td>\n",
       "      <td>1</td>\n",
       "      <td>2500</td>\n",
       "      <td>800</td>\n",
       "      <td>Київ</td>\n",
       "      <td>до 1000 осіб</td>\n",
       "      <td>Аутсорсингова</td>\n",
       "      <td>чоловіча</td>\n",
       "      <td>26</td>\n",
       "      <td>Вища</td>\n",
       "      <td>False</td>\n",
       "      <td>Intermediate (середній)</td>\n",
       "      <td>12/06/2017 13:02:47</td>\n",
       "      <td>Mozilla/5.0 (Windows NT 10.0; Win64; x64) Appl...</td>\n",
       "      <td>4.0</td>\n",
       "      <td>1.0</td>\n",
       "      <td>2500</td>\n",
       "    </tr>\n",
       "    <tr>\n",
       "      <th>3</th>\n",
       "      <td>4</td>\n",
       "      <td>Software Engineer</td>\n",
       "      <td>JavaScript</td>\n",
       "      <td>5</td>\n",
       "      <td>4</td>\n",
       "      <td>2000</td>\n",
       "      <td>400</td>\n",
       "      <td>Одеса</td>\n",
       "      <td>до 200 осіб</td>\n",
       "      <td>Продуктова</td>\n",
       "      <td>чоловіча</td>\n",
       "      <td>30</td>\n",
       "      <td>Середня</td>\n",
       "      <td>False</td>\n",
       "      <td>Pre-intermediate (нище середнього)</td>\n",
       "      <td>12/06/2017 13:03:01</td>\n",
       "      <td>Mozilla/5.0 (Windows NT 6.1; Win64; x64) Apple...</td>\n",
       "      <td>5.0</td>\n",
       "      <td>4.0</td>\n",
       "      <td>2000</td>\n",
       "    </tr>\n",
       "    <tr>\n",
       "      <th>4</th>\n",
       "      <td>5</td>\n",
       "      <td>Senior Software Engineer</td>\n",
       "      <td>JavaScript</td>\n",
       "      <td>10 і більше років</td>\n",
       "      <td>0.5</td>\n",
       "      <td>4500</td>\n",
       "      <td>500</td>\n",
       "      <td>Інше</td>\n",
       "      <td>до 10 осіб</td>\n",
       "      <td>Продуктова</td>\n",
       "      <td>чоловіча</td>\n",
       "      <td>30</td>\n",
       "      <td>Технікум / Коледж</td>\n",
       "      <td>False</td>\n",
       "      <td>Intermediate (середній)</td>\n",
       "      <td>12/06/2017 13:03:47</td>\n",
       "      <td>Mozilla/5.0 (iPhone; CPU iPhone OS 10_3_2 like...</td>\n",
       "      <td>10.0</td>\n",
       "      <td>0.5</td>\n",
       "      <td>4500</td>\n",
       "    </tr>\n",
       "  </tbody>\n",
       "</table>\n",
       "</div>"
      ],
      "text/plain": [
       "   N                    Посада Мова програмування Загальний досвід роботи  \\\n",
       "0  1        Junior QA engineer                NaN                     0.5   \n",
       "1  2        Junior QA engineer                NaN         менше 3 місяців   \n",
       "2  3         Software Engineer            C#/.NET                       4   \n",
       "3  4         Software Engineer         JavaScript                       5   \n",
       "4  5  Senior Software Engineer         JavaScript       10 і більше років   \n",
       "\n",
       "  Досвід роботи на поточному місці  Зарплата на місяць  \\\n",
       "0                              0.5                 400   \n",
       "1                  менше 3 місяців                 430   \n",
       "2                                1                2500   \n",
       "3                                4                2000   \n",
       "4                              0.5                4500   \n",
       "\n",
       "   Зміна зарплати за 12 місяців   Місто   Розмір компанії   Тип компанії  \\\n",
       "0                             0  Харків        до 10 осіб  Аутсорсингова   \n",
       "1                           130  Харків  більше 1000 осіб  Аутсорсингова   \n",
       "2                           800    Київ      до 1000 осіб  Аутсорсингова   \n",
       "3                           400   Одеса       до 200 осіб     Продуктова   \n",
       "4                           500    Інше        до 10 осіб     Продуктова   \n",
       "\n",
       "      Стать  Вік             Освіта  Ще студент  \\\n",
       "0    жіноча   20       Неповна Вища        True   \n",
       "1    жіноча   21       Неповна Вища        True   \n",
       "2  чоловіча   26               Вища       False   \n",
       "3  чоловіча   30            Середня       False   \n",
       "4  чоловіча   30  Технікум / Коледж       False   \n",
       "\n",
       "                     Рівень англійської      Дата заповнення  \\\n",
       "0    Pre-intermediate (нище середнього)  12/06/2017 12:38:08   \n",
       "1  Upper-Intermediate (вище середнього)  12/06/2017 12:42:51   \n",
       "2               Intermediate (середній)  12/06/2017 13:02:47   \n",
       "3    Pre-intermediate (нище середнього)  12/06/2017 13:03:01   \n",
       "4               Intermediate (середній)  12/06/2017 13:03:47   \n",
       "\n",
       "                                          User.Agent   exp  current_job_exp  \\\n",
       "0  Mozilla/5.0 (Windows NT 10.0; Win64; x64) Appl...   0.5              0.5   \n",
       "1  Mozilla/5.0 (iPad; CPU OS 10_2_1 like Mac OS X...   0.0              0.0   \n",
       "2  Mozilla/5.0 (Windows NT 10.0; Win64; x64) Appl...   4.0              1.0   \n",
       "3  Mozilla/5.0 (Windows NT 6.1; Win64; x64) Apple...   5.0              4.0   \n",
       "4  Mozilla/5.0 (iPhone; CPU iPhone OS 10_3_2 like...  10.0              0.5   \n",
       "\n",
       "   salary  \n",
       "0     400  \n",
       "1     430  \n",
       "2    2500  \n",
       "3    2000  \n",
       "4    4500  "
      ]
     },
     "execution_count": 23,
     "metadata": {},
     "output_type": "execute_result"
    }
   ],
   "source": [
    "\n",
    "data = data.drop(columns = [\"Спеціалізація\", \"Університет\", \"Предметна область\", \"Валюта\", \"cls\"])\n",
    "data.head()"
   ]
  },
  {
   "cell_type": "markdown",
   "id": "b8de8638-9a31-4108-a0cb-97a0c570bbe9",
   "metadata": {},
   "source": [
    "Знову порахуйте, яка частка пропусків міститься в кожній колонці і переконайтеся, що залишився тільки стовпець \"Мова.програмування\"\n"
   ]
  },
  {
   "cell_type": "code",
   "execution_count": 24,
   "id": "4669fe91-6275-4543-9fbe-52de621e4ea6",
   "metadata": {
    "tags": []
   },
   "outputs": [
    {
     "name": "stdout",
     "output_type": "stream",
     "text": [
      "Кількість пропускіів N                                      0\n",
      "Посада                                 0\n",
      "Мова програмування                  3850\n",
      "Загальний досвід роботи                0\n",
      "Досвід роботи на поточному місці       0\n",
      "Зарплата на місяць                     0\n",
      "Зміна зарплати за 12 місяців           0\n",
      "Місто                                  0\n",
      "Розмір компанії                        0\n",
      "Тип компанії                           0\n",
      "Стать                                  0\n",
      "Вік                                    0\n",
      "Освіта                                 0\n",
      "Ще студент                             0\n",
      "Рівень англійської                     0\n",
      "Дата заповнення                        0\n",
      "User.Agent                             0\n",
      "exp                                    0\n",
      "current_job_exp                        0\n",
      "salary                                 0\n",
      "dtype: int64\n"
     ]
    }
   ],
   "source": [
    "count_of_unfilled_rows = data.isnull().sum()\n",
    "print(\"Кількість пропускіів\", count_of_unfilled_rows)"
   ]
  },
  {
   "cell_type": "markdown",
   "id": "8af318fd-fc24-48f4-bfbc-8dc8e1145b77",
   "metadata": {},
   "source": [
    "Видаліть усі рядки у вихідній таблиці за допомогою методу dropna\n"
   ]
  },
  {
   "cell_type": "code",
   "execution_count": 27,
   "id": "8a340dcc-eb80-4b6f-aa48-ed19454a71ce",
   "metadata": {
    "tags": []
   },
   "outputs": [
    {
     "data": {
      "text/html": [
       "<div>\n",
       "<style scoped>\n",
       "    .dataframe tbody tr th:only-of-type {\n",
       "        vertical-align: middle;\n",
       "    }\n",
       "\n",
       "    .dataframe tbody tr th {\n",
       "        vertical-align: top;\n",
       "    }\n",
       "\n",
       "    .dataframe thead th {\n",
       "        text-align: right;\n",
       "    }\n",
       "</style>\n",
       "<table border=\"1\" class=\"dataframe\">\n",
       "  <thead>\n",
       "    <tr style=\"text-align: right;\">\n",
       "      <th></th>\n",
       "      <th>N</th>\n",
       "      <th>Посада</th>\n",
       "      <th>Мова програмування</th>\n",
       "      <th>Загальний досвід роботи</th>\n",
       "      <th>Досвід роботи на поточному місці</th>\n",
       "      <th>Зарплата на місяць</th>\n",
       "      <th>Зміна зарплати за 12 місяців</th>\n",
       "      <th>Місто</th>\n",
       "      <th>Розмір компанії</th>\n",
       "      <th>Тип компанії</th>\n",
       "      <th>Стать</th>\n",
       "      <th>Вік</th>\n",
       "      <th>Освіта</th>\n",
       "      <th>Ще студент</th>\n",
       "      <th>Рівень англійської</th>\n",
       "      <th>Дата заповнення</th>\n",
       "      <th>User.Agent</th>\n",
       "      <th>exp</th>\n",
       "      <th>current_job_exp</th>\n",
       "      <th>salary</th>\n",
       "    </tr>\n",
       "  </thead>\n",
       "  <tbody>\n",
       "    <tr>\n",
       "      <th>2</th>\n",
       "      <td>3</td>\n",
       "      <td>Software Engineer</td>\n",
       "      <td>C#/.NET</td>\n",
       "      <td>4</td>\n",
       "      <td>1</td>\n",
       "      <td>2500</td>\n",
       "      <td>800</td>\n",
       "      <td>Київ</td>\n",
       "      <td>до 1000 осіб</td>\n",
       "      <td>Аутсорсингова</td>\n",
       "      <td>чоловіча</td>\n",
       "      <td>26</td>\n",
       "      <td>Вища</td>\n",
       "      <td>False</td>\n",
       "      <td>Intermediate (середній)</td>\n",
       "      <td>12/06/2017 13:02:47</td>\n",
       "      <td>Mozilla/5.0 (Windows NT 10.0; Win64; x64) Appl...</td>\n",
       "      <td>4.0</td>\n",
       "      <td>1.0</td>\n",
       "      <td>2500</td>\n",
       "    </tr>\n",
       "    <tr>\n",
       "      <th>3</th>\n",
       "      <td>4</td>\n",
       "      <td>Software Engineer</td>\n",
       "      <td>JavaScript</td>\n",
       "      <td>5</td>\n",
       "      <td>4</td>\n",
       "      <td>2000</td>\n",
       "      <td>400</td>\n",
       "      <td>Одеса</td>\n",
       "      <td>до 200 осіб</td>\n",
       "      <td>Продуктова</td>\n",
       "      <td>чоловіча</td>\n",
       "      <td>30</td>\n",
       "      <td>Середня</td>\n",
       "      <td>False</td>\n",
       "      <td>Pre-intermediate (нище середнього)</td>\n",
       "      <td>12/06/2017 13:03:01</td>\n",
       "      <td>Mozilla/5.0 (Windows NT 6.1; Win64; x64) Apple...</td>\n",
       "      <td>5.0</td>\n",
       "      <td>4.0</td>\n",
       "      <td>2000</td>\n",
       "    </tr>\n",
       "    <tr>\n",
       "      <th>4</th>\n",
       "      <td>5</td>\n",
       "      <td>Senior Software Engineer</td>\n",
       "      <td>JavaScript</td>\n",
       "      <td>10 і більше років</td>\n",
       "      <td>0.5</td>\n",
       "      <td>4500</td>\n",
       "      <td>500</td>\n",
       "      <td>Інше</td>\n",
       "      <td>до 10 осіб</td>\n",
       "      <td>Продуктова</td>\n",
       "      <td>чоловіча</td>\n",
       "      <td>30</td>\n",
       "      <td>Технікум / Коледж</td>\n",
       "      <td>False</td>\n",
       "      <td>Intermediate (середній)</td>\n",
       "      <td>12/06/2017 13:03:47</td>\n",
       "      <td>Mozilla/5.0 (iPhone; CPU iPhone OS 10_3_2 like...</td>\n",
       "      <td>10.0</td>\n",
       "      <td>0.5</td>\n",
       "      <td>4500</td>\n",
       "    </tr>\n",
       "    <tr>\n",
       "      <th>6</th>\n",
       "      <td>7</td>\n",
       "      <td>Junior Software Engineer</td>\n",
       "      <td>C#/.NET</td>\n",
       "      <td>1</td>\n",
       "      <td>менше 3 місяців</td>\n",
       "      <td>600</td>\n",
       "      <td>100</td>\n",
       "      <td>Хмельницький</td>\n",
       "      <td>до 50 осіб</td>\n",
       "      <td>Аутсорсингова</td>\n",
       "      <td>чоловіча</td>\n",
       "      <td>23</td>\n",
       "      <td>Вища</td>\n",
       "      <td>False</td>\n",
       "      <td>Pre-intermediate (нище середнього)</td>\n",
       "      <td>12/06/2017 13:04:26</td>\n",
       "      <td>Mozilla/5.0 (Windows NT 10.0; Win64; x64) Appl...</td>\n",
       "      <td>1.0</td>\n",
       "      <td>0.0</td>\n",
       "      <td>600</td>\n",
       "    </tr>\n",
       "    <tr>\n",
       "      <th>7</th>\n",
       "      <td>8</td>\n",
       "      <td>Senior Software Engineer</td>\n",
       "      <td>C++</td>\n",
       "      <td>6</td>\n",
       "      <td>1</td>\n",
       "      <td>3300</td>\n",
       "      <td>500</td>\n",
       "      <td>Київ</td>\n",
       "      <td>до 10 осіб</td>\n",
       "      <td>Продуктова</td>\n",
       "      <td>чоловіча</td>\n",
       "      <td>28</td>\n",
       "      <td>Вища</td>\n",
       "      <td>False</td>\n",
       "      <td>Upper-Intermediate (вище середнього)</td>\n",
       "      <td>12/06/2017 13:04:27</td>\n",
       "      <td>Mozilla/5.0 (X11; Ubuntu; Linux x86_64; rv:53....</td>\n",
       "      <td>6.0</td>\n",
       "      <td>1.0</td>\n",
       "      <td>3300</td>\n",
       "    </tr>\n",
       "    <tr>\n",
       "      <th>...</th>\n",
       "      <td>...</td>\n",
       "      <td>...</td>\n",
       "      <td>...</td>\n",
       "      <td>...</td>\n",
       "      <td>...</td>\n",
       "      <td>...</td>\n",
       "      <td>...</td>\n",
       "      <td>...</td>\n",
       "      <td>...</td>\n",
       "      <td>...</td>\n",
       "      <td>...</td>\n",
       "      <td>...</td>\n",
       "      <td>...</td>\n",
       "      <td>...</td>\n",
       "      <td>...</td>\n",
       "      <td>...</td>\n",
       "      <td>...</td>\n",
       "      <td>...</td>\n",
       "      <td>...</td>\n",
       "      <td>...</td>\n",
       "    </tr>\n",
       "    <tr>\n",
       "      <th>8692</th>\n",
       "      <td>8693</td>\n",
       "      <td>Software Engineer</td>\n",
       "      <td>Java</td>\n",
       "      <td>5</td>\n",
       "      <td>1</td>\n",
       "      <td>3500</td>\n",
       "      <td>650</td>\n",
       "      <td>Віддалено</td>\n",
       "      <td>до 200 осіб</td>\n",
       "      <td>Аутсорсингова</td>\n",
       "      <td>жіноча</td>\n",
       "      <td>28</td>\n",
       "      <td>Вища</td>\n",
       "      <td>False</td>\n",
       "      <td>Intermediate (середній)</td>\n",
       "      <td>12/07/2017 13:26:49</td>\n",
       "      <td>Mozilla/5.0 (Macintosh; Intel Mac OS X 10_12_5...</td>\n",
       "      <td>5.0</td>\n",
       "      <td>1.0</td>\n",
       "      <td>3500</td>\n",
       "    </tr>\n",
       "    <tr>\n",
       "      <th>8694</th>\n",
       "      <td>8695</td>\n",
       "      <td>Junior Software Engineer</td>\n",
       "      <td>C#/.NET</td>\n",
       "      <td>1</td>\n",
       "      <td>1</td>\n",
       "      <td>550</td>\n",
       "      <td>550</td>\n",
       "      <td>Харків</td>\n",
       "      <td>до 200 осіб</td>\n",
       "      <td>Аутсорсингова</td>\n",
       "      <td>чоловіча</td>\n",
       "      <td>23</td>\n",
       "      <td>Вища</td>\n",
       "      <td>False</td>\n",
       "      <td>Pre-intermediate (нище середнього)</td>\n",
       "      <td>12/07/2017 14:14:33</td>\n",
       "      <td>Mozilla/5.0 (Windows NT 10.0; WOW64; rv:54.0) ...</td>\n",
       "      <td>1.0</td>\n",
       "      <td>1.0</td>\n",
       "      <td>550</td>\n",
       "    </tr>\n",
       "    <tr>\n",
       "      <th>8695</th>\n",
       "      <td>8696</td>\n",
       "      <td>Software Engineer</td>\n",
       "      <td>Python</td>\n",
       "      <td>1</td>\n",
       "      <td>0.5</td>\n",
       "      <td>1500</td>\n",
       "      <td>1000</td>\n",
       "      <td>Київ</td>\n",
       "      <td>до 10 осіб</td>\n",
       "      <td>Стартап</td>\n",
       "      <td>чоловіча</td>\n",
       "      <td>29</td>\n",
       "      <td>Вища</td>\n",
       "      <td>False</td>\n",
       "      <td>Intermediate (середній)</td>\n",
       "      <td>12/07/2017 14:39:21</td>\n",
       "      <td>Mozilla/5.0 (X11; Linux x86_64) AppleWebKit/53...</td>\n",
       "      <td>1.0</td>\n",
       "      <td>0.5</td>\n",
       "      <td>1500</td>\n",
       "    </tr>\n",
       "    <tr>\n",
       "      <th>8701</th>\n",
       "      <td>8702</td>\n",
       "      <td>Junior Software Engineer</td>\n",
       "      <td>Ruby/Rails</td>\n",
       "      <td>1</td>\n",
       "      <td>0.5</td>\n",
       "      <td>800</td>\n",
       "      <td>500</td>\n",
       "      <td>Львів</td>\n",
       "      <td>до 10 осіб</td>\n",
       "      <td>Аутстафінгова</td>\n",
       "      <td>чоловіча</td>\n",
       "      <td>30</td>\n",
       "      <td>Неповна Вища</td>\n",
       "      <td>False</td>\n",
       "      <td>Upper-Intermediate (вище середнього)</td>\n",
       "      <td>12/07/2017 17:32:26</td>\n",
       "      <td>Mozilla/5.0 (X11; Linux x86_64) AppleWebKit/53...</td>\n",
       "      <td>1.0</td>\n",
       "      <td>0.5</td>\n",
       "      <td>800</td>\n",
       "    </tr>\n",
       "    <tr>\n",
       "      <th>8703</th>\n",
       "      <td>8704</td>\n",
       "      <td>Senior Software Engineer</td>\n",
       "      <td>Java</td>\n",
       "      <td>7</td>\n",
       "      <td>2</td>\n",
       "      <td>5000</td>\n",
       "      <td>800</td>\n",
       "      <td>Одеса</td>\n",
       "      <td>до 1000 осіб</td>\n",
       "      <td>Продуктова</td>\n",
       "      <td>чоловіча</td>\n",
       "      <td>28</td>\n",
       "      <td>Вища</td>\n",
       "      <td>False</td>\n",
       "      <td>Upper-Intermediate (вище середнього)</td>\n",
       "      <td>12/07/2017 21:28:57</td>\n",
       "      <td>Mozilla/5.0 (iPad; CPU OS 10_3_2 like Mac OS X...</td>\n",
       "      <td>7.0</td>\n",
       "      <td>2.0</td>\n",
       "      <td>5000</td>\n",
       "    </tr>\n",
       "  </tbody>\n",
       "</table>\n",
       "<p>4854 rows × 20 columns</p>\n",
       "</div>"
      ],
      "text/plain": [
       "         N                    Посада Мова програмування  \\\n",
       "2        3         Software Engineer            C#/.NET   \n",
       "3        4         Software Engineer         JavaScript   \n",
       "4        5  Senior Software Engineer         JavaScript   \n",
       "6        7  Junior Software Engineer            C#/.NET   \n",
       "7        8  Senior Software Engineer                C++   \n",
       "...    ...                       ...                ...   \n",
       "8692  8693         Software Engineer               Java   \n",
       "8694  8695  Junior Software Engineer            C#/.NET   \n",
       "8695  8696         Software Engineer             Python   \n",
       "8701  8702  Junior Software Engineer         Ruby/Rails   \n",
       "8703  8704  Senior Software Engineer               Java   \n",
       "\n",
       "     Загальний досвід роботи Досвід роботи на поточному місці  \\\n",
       "2                          4                                1   \n",
       "3                          5                                4   \n",
       "4          10 і більше років                              0.5   \n",
       "6                          1                  менше 3 місяців   \n",
       "7                          6                                1   \n",
       "...                      ...                              ...   \n",
       "8692                       5                                1   \n",
       "8694                       1                                1   \n",
       "8695                       1                              0.5   \n",
       "8701                       1                              0.5   \n",
       "8703                       7                                2   \n",
       "\n",
       "      Зарплата на місяць  Зміна зарплати за 12 місяців         Місто  \\\n",
       "2                   2500                           800          Київ   \n",
       "3                   2000                           400         Одеса   \n",
       "4                   4500                           500          Інше   \n",
       "6                    600                           100  Хмельницький   \n",
       "7                   3300                           500          Київ   \n",
       "...                  ...                           ...           ...   \n",
       "8692                3500                           650     Віддалено   \n",
       "8694                 550                           550        Харків   \n",
       "8695                1500                          1000          Київ   \n",
       "8701                 800                           500         Львів   \n",
       "8703                5000                           800         Одеса   \n",
       "\n",
       "     Розмір компанії   Тип компанії     Стать  Вік             Освіта  \\\n",
       "2       до 1000 осіб  Аутсорсингова  чоловіча   26               Вища   \n",
       "3        до 200 осіб     Продуктова  чоловіча   30            Середня   \n",
       "4         до 10 осіб     Продуктова  чоловіча   30  Технікум / Коледж   \n",
       "6         до 50 осіб  Аутсорсингова  чоловіча   23               Вища   \n",
       "7         до 10 осіб     Продуктова  чоловіча   28               Вища   \n",
       "...              ...            ...       ...  ...                ...   \n",
       "8692     до 200 осіб  Аутсорсингова    жіноча   28               Вища   \n",
       "8694     до 200 осіб  Аутсорсингова  чоловіча   23               Вища   \n",
       "8695      до 10 осіб        Стартап  чоловіча   29               Вища   \n",
       "8701      до 10 осіб  Аутстафінгова  чоловіча   30       Неповна Вища   \n",
       "8703    до 1000 осіб     Продуктова  чоловіча   28               Вища   \n",
       "\n",
       "      Ще студент                    Рівень англійської      Дата заповнення  \\\n",
       "2          False               Intermediate (середній)  12/06/2017 13:02:47   \n",
       "3          False    Pre-intermediate (нище середнього)  12/06/2017 13:03:01   \n",
       "4          False               Intermediate (середній)  12/06/2017 13:03:47   \n",
       "6          False    Pre-intermediate (нище середнього)  12/06/2017 13:04:26   \n",
       "7          False  Upper-Intermediate (вище середнього)  12/06/2017 13:04:27   \n",
       "...          ...                                   ...                  ...   \n",
       "8692       False               Intermediate (середній)  12/07/2017 13:26:49   \n",
       "8694       False    Pre-intermediate (нище середнього)  12/07/2017 14:14:33   \n",
       "8695       False               Intermediate (середній)  12/07/2017 14:39:21   \n",
       "8701       False  Upper-Intermediate (вище середнього)  12/07/2017 17:32:26   \n",
       "8703       False  Upper-Intermediate (вище середнього)  12/07/2017 21:28:57   \n",
       "\n",
       "                                             User.Agent   exp  \\\n",
       "2     Mozilla/5.0 (Windows NT 10.0; Win64; x64) Appl...   4.0   \n",
       "3     Mozilla/5.0 (Windows NT 6.1; Win64; x64) Apple...   5.0   \n",
       "4     Mozilla/5.0 (iPhone; CPU iPhone OS 10_3_2 like...  10.0   \n",
       "6     Mozilla/5.0 (Windows NT 10.0; Win64; x64) Appl...   1.0   \n",
       "7     Mozilla/5.0 (X11; Ubuntu; Linux x86_64; rv:53....   6.0   \n",
       "...                                                 ...   ...   \n",
       "8692  Mozilla/5.0 (Macintosh; Intel Mac OS X 10_12_5...   5.0   \n",
       "8694  Mozilla/5.0 (Windows NT 10.0; WOW64; rv:54.0) ...   1.0   \n",
       "8695  Mozilla/5.0 (X11; Linux x86_64) AppleWebKit/53...   1.0   \n",
       "8701  Mozilla/5.0 (X11; Linux x86_64) AppleWebKit/53...   1.0   \n",
       "8703  Mozilla/5.0 (iPad; CPU OS 10_3_2 like Mac OS X...   7.0   \n",
       "\n",
       "      current_job_exp  salary  \n",
       "2                 1.0    2500  \n",
       "3                 4.0    2000  \n",
       "4                 0.5    4500  \n",
       "6                 0.0     600  \n",
       "7                 1.0    3300  \n",
       "...               ...     ...  \n",
       "8692              1.0    3500  \n",
       "8694              1.0     550  \n",
       "8695              0.5    1500  \n",
       "8701              0.5     800  \n",
       "8703              2.0    5000  \n",
       "\n",
       "[4854 rows x 20 columns]"
      ]
     },
     "execution_count": 27,
     "metadata": {},
     "output_type": "execute_result"
    }
   ],
   "source": [
    "data = data.dropna(how='any')\n",
    "data"
   ]
  },
  {
   "cell_type": "markdown",
   "id": "626b0e39-b3a1-493c-9936-14b88ec5cba9",
   "metadata": {},
   "source": [
    "Визначте новий розмір таблиці за допомогою методу shape\n"
   ]
  },
  {
   "cell_type": "code",
   "execution_count": 28,
   "id": "b55ca935-9857-4b0c-afc7-c485035fcab4",
   "metadata": {
    "tags": []
   },
   "outputs": [
    {
     "data": {
      "text/plain": [
       "(4854, 20)"
      ]
     },
     "execution_count": 28,
     "metadata": {},
     "output_type": "execute_result"
    }
   ],
   "source": [
    "data.shape"
   ]
  },
  {
   "cell_type": "markdown",
   "id": "bd5bb289-590e-47a0-b39a-4c38c7d7b343",
   "metadata": {},
   "source": [
    "Створіть нову таблицю python_data, в якій будуть тільки рядки зі спеціалістами, які вказали мову програмування Python\n"
   ]
  },
  {
   "cell_type": "code",
   "execution_count": 29,
   "id": "67c64791-e5bb-4bb2-bd9c-f1f6516b1dc6",
   "metadata": {
    "tags": []
   },
   "outputs": [],
   "source": [
    "python_data = data[data[\"Мова програмування\"] == \"Python\"]"
   ]
  },
  {
   "cell_type": "markdown",
   "id": "5de7751e-f5c7-4ed0-8010-a654f0d4c5ce",
   "metadata": {},
   "source": [
    "Визначте розмір таблиці python_data за допомогою методу shape\n"
   ]
  },
  {
   "cell_type": "code",
   "execution_count": 30,
   "id": "751ac15f-07e7-4cf7-b4b4-8d10117aeeb1",
   "metadata": {
    "tags": []
   },
   "outputs": [
    {
     "data": {
      "text/html": [
       "<div>\n",
       "<style scoped>\n",
       "    .dataframe tbody tr th:only-of-type {\n",
       "        vertical-align: middle;\n",
       "    }\n",
       "\n",
       "    .dataframe tbody tr th {\n",
       "        vertical-align: top;\n",
       "    }\n",
       "\n",
       "    .dataframe thead th {\n",
       "        text-align: right;\n",
       "    }\n",
       "</style>\n",
       "<table border=\"1\" class=\"dataframe\">\n",
       "  <thead>\n",
       "    <tr style=\"text-align: right;\">\n",
       "      <th></th>\n",
       "      <th>N</th>\n",
       "      <th>Посада</th>\n",
       "      <th>Мова програмування</th>\n",
       "      <th>Загальний досвід роботи</th>\n",
       "      <th>Досвід роботи на поточному місці</th>\n",
       "      <th>Зарплата на місяць</th>\n",
       "      <th>Зміна зарплати за 12 місяців</th>\n",
       "      <th>Місто</th>\n",
       "      <th>Розмір компанії</th>\n",
       "      <th>Тип компанії</th>\n",
       "      <th>Стать</th>\n",
       "      <th>Вік</th>\n",
       "      <th>Освіта</th>\n",
       "      <th>Ще студент</th>\n",
       "      <th>Рівень англійської</th>\n",
       "      <th>Дата заповнення</th>\n",
       "      <th>User.Agent</th>\n",
       "      <th>exp</th>\n",
       "      <th>current_job_exp</th>\n",
       "      <th>salary</th>\n",
       "    </tr>\n",
       "  </thead>\n",
       "  <tbody>\n",
       "    <tr>\n",
       "      <th>12</th>\n",
       "      <td>13</td>\n",
       "      <td>Software Engineer</td>\n",
       "      <td>Python</td>\n",
       "      <td>1</td>\n",
       "      <td>менше 3 місяців</td>\n",
       "      <td>800</td>\n",
       "      <td>200</td>\n",
       "      <td>Київ</td>\n",
       "      <td>до 50 осіб</td>\n",
       "      <td>Аутсорсингова</td>\n",
       "      <td>чоловіча</td>\n",
       "      <td>26</td>\n",
       "      <td>Вища</td>\n",
       "      <td>False</td>\n",
       "      <td>Pre-intermediate (нище середнього)</td>\n",
       "      <td>12/06/2017 13:05:54</td>\n",
       "      <td>Mozilla/5.0 (Windows NT 6.1; Win64; x64) Apple...</td>\n",
       "      <td>1.0</td>\n",
       "      <td>0.0</td>\n",
       "      <td>800</td>\n",
       "    </tr>\n",
       "    <tr>\n",
       "      <th>68</th>\n",
       "      <td>69</td>\n",
       "      <td>Software Engineer</td>\n",
       "      <td>Python</td>\n",
       "      <td>1.5</td>\n",
       "      <td>0.5</td>\n",
       "      <td>900</td>\n",
       "      <td>900</td>\n",
       "      <td>Київ</td>\n",
       "      <td>до 10 осіб</td>\n",
       "      <td>Стартап</td>\n",
       "      <td>чоловіча</td>\n",
       "      <td>21</td>\n",
       "      <td>Неповна Вища</td>\n",
       "      <td>True</td>\n",
       "      <td>Upper-Intermediate (вище середнього)</td>\n",
       "      <td>12/06/2017 13:11:17</td>\n",
       "      <td>Mozilla/5.0 (Windows NT 10.0; Win64; x64) Appl...</td>\n",
       "      <td>1.5</td>\n",
       "      <td>0.5</td>\n",
       "      <td>900</td>\n",
       "    </tr>\n",
       "    <tr>\n",
       "      <th>87</th>\n",
       "      <td>88</td>\n",
       "      <td>Junior Software Engineer</td>\n",
       "      <td>Python</td>\n",
       "      <td>0.5</td>\n",
       "      <td>0.5</td>\n",
       "      <td>600</td>\n",
       "      <td>0</td>\n",
       "      <td>Київ</td>\n",
       "      <td>до 10 осіб</td>\n",
       "      <td>Аутсорсингова</td>\n",
       "      <td>чоловіча</td>\n",
       "      <td>19</td>\n",
       "      <td>Неповна Вища</td>\n",
       "      <td>True</td>\n",
       "      <td>Upper-Intermediate (вище середнього)</td>\n",
       "      <td>12/06/2017 13:12:25</td>\n",
       "      <td>Mozilla/5.0 (X11; Linux x86_64) AppleWebKit/53...</td>\n",
       "      <td>0.5</td>\n",
       "      <td>0.5</td>\n",
       "      <td>600</td>\n",
       "    </tr>\n",
       "    <tr>\n",
       "      <th>114</th>\n",
       "      <td>115</td>\n",
       "      <td>Junior Software Engineer</td>\n",
       "      <td>Python</td>\n",
       "      <td>1.5</td>\n",
       "      <td>0.5</td>\n",
       "      <td>685</td>\n",
       "      <td>250</td>\n",
       "      <td>Київ</td>\n",
       "      <td>до 1000 осіб</td>\n",
       "      <td>Аутсорсингова</td>\n",
       "      <td>чоловіча</td>\n",
       "      <td>21</td>\n",
       "      <td>Неповна Вища</td>\n",
       "      <td>False</td>\n",
       "      <td>Intermediate (середній)</td>\n",
       "      <td>12/06/2017 13:14:52</td>\n",
       "      <td>Mozilla/5.0 (X11; Linux x86_64) AppleWebKit/53...</td>\n",
       "      <td>1.5</td>\n",
       "      <td>0.5</td>\n",
       "      <td>685</td>\n",
       "    </tr>\n",
       "    <tr>\n",
       "      <th>143</th>\n",
       "      <td>144</td>\n",
       "      <td>Junior Software Engineer</td>\n",
       "      <td>Python</td>\n",
       "      <td>1</td>\n",
       "      <td>1</td>\n",
       "      <td>750</td>\n",
       "      <td>250</td>\n",
       "      <td>Київ</td>\n",
       "      <td>до 10 осіб</td>\n",
       "      <td>Аутсорсингова</td>\n",
       "      <td>чоловіча</td>\n",
       "      <td>21</td>\n",
       "      <td>Неповна Вища</td>\n",
       "      <td>True</td>\n",
       "      <td>Upper-Intermediate (вище середнього)</td>\n",
       "      <td>12/06/2017 13:19:10</td>\n",
       "      <td>Mozilla/5.0 (X11; Linux x86_64) AppleWebKit/53...</td>\n",
       "      <td>1.0</td>\n",
       "      <td>1.0</td>\n",
       "      <td>750</td>\n",
       "    </tr>\n",
       "  </tbody>\n",
       "</table>\n",
       "</div>"
      ],
      "text/plain": [
       "       N                    Посада Мова програмування Загальний досвід роботи  \\\n",
       "12    13         Software Engineer             Python                       1   \n",
       "68    69         Software Engineer             Python                     1.5   \n",
       "87    88  Junior Software Engineer             Python                     0.5   \n",
       "114  115  Junior Software Engineer             Python                     1.5   \n",
       "143  144  Junior Software Engineer             Python                       1   \n",
       "\n",
       "    Досвід роботи на поточному місці  Зарплата на місяць  \\\n",
       "12                   менше 3 місяців                 800   \n",
       "68                               0.5                 900   \n",
       "87                               0.5                 600   \n",
       "114                              0.5                 685   \n",
       "143                                1                 750   \n",
       "\n",
       "     Зміна зарплати за 12 місяців Місто Розмір компанії   Тип компанії  \\\n",
       "12                            200  Київ      до 50 осіб  Аутсорсингова   \n",
       "68                            900  Київ      до 10 осіб        Стартап   \n",
       "87                              0  Київ      до 10 осіб  Аутсорсингова   \n",
       "114                           250  Київ    до 1000 осіб  Аутсорсингова   \n",
       "143                           250  Київ      до 10 осіб  Аутсорсингова   \n",
       "\n",
       "        Стать  Вік        Освіта  Ще студент  \\\n",
       "12   чоловіча   26          Вища       False   \n",
       "68   чоловіча   21  Неповна Вища        True   \n",
       "87   чоловіча   19  Неповна Вища        True   \n",
       "114  чоловіча   21  Неповна Вища       False   \n",
       "143  чоловіча   21  Неповна Вища        True   \n",
       "\n",
       "                       Рівень англійської      Дата заповнення  \\\n",
       "12     Pre-intermediate (нище середнього)  12/06/2017 13:05:54   \n",
       "68   Upper-Intermediate (вище середнього)  12/06/2017 13:11:17   \n",
       "87   Upper-Intermediate (вище середнього)  12/06/2017 13:12:25   \n",
       "114               Intermediate (середній)  12/06/2017 13:14:52   \n",
       "143  Upper-Intermediate (вище середнього)  12/06/2017 13:19:10   \n",
       "\n",
       "                                            User.Agent  exp  current_job_exp  \\\n",
       "12   Mozilla/5.0 (Windows NT 6.1; Win64; x64) Apple...  1.0              0.0   \n",
       "68   Mozilla/5.0 (Windows NT 10.0; Win64; x64) Appl...  1.5              0.5   \n",
       "87   Mozilla/5.0 (X11; Linux x86_64) AppleWebKit/53...  0.5              0.5   \n",
       "114  Mozilla/5.0 (X11; Linux x86_64) AppleWebKit/53...  1.5              0.5   \n",
       "143  Mozilla/5.0 (X11; Linux x86_64) AppleWebKit/53...  1.0              1.0   \n",
       "\n",
       "     salary  \n",
       "12      800  \n",
       "68      900  \n",
       "87      600  \n",
       "114     685  \n",
       "143     750  "
      ]
     },
     "execution_count": 30,
     "metadata": {},
     "output_type": "execute_result"
    }
   ],
   "source": [
    "python_data.shape\n",
    "python_data.head()"
   ]
  },
  {
   "cell_type": "markdown",
   "id": "7a8dacce-a936-4dff-88e5-fd39a6382c82",
   "metadata": {},
   "source": [
    "Використовуючи метод groupby, виконайте групування за стовпчиком \"Посада\".\n",
    "Створіть новий DataFrame, де для згрупованих даних за стовпчиком \"Посада\", виконайте агрегацію даних за допомогою методу agg і знайдіть мінімальне та максимальне значення у стовпчику \"Зарплата.в.місяць\""
   ]
  },
  {
   "cell_type": "code",
   "execution_count": 31,
   "id": "09a7e8ae-5f98-4e28-bd20-bb9351e8434f",
   "metadata": {
    "tags": []
   },
   "outputs": [
    {
     "name": "stdout",
     "output_type": "stream",
     "text": [
      "                     Посада   min   max\n",
      "0  Junior Software Engineer   100  1250\n",
      "1  Senior Software Engineer  1300  9200\n",
      "2         Software Engineer   500  5400\n",
      "3          System Architect  3000  5000\n",
      "4            Technical Lead  1425  6200\n"
     ]
    }
   ],
   "source": [
    "new_data = python_data.groupby('Посада')['Зарплата на місяць'].agg(['min', 'max']).reset_index()\n",
    "print(new_data)"
   ]
  },
  {
   "cell_type": "markdown",
   "id": "7e69fa0a-8206-4238-b4cd-12d53f0bb9fe",
   "metadata": {},
   "source": [
    "Створіть описову статистику за допомогою методу describe для нового стовпчика."
   ]
  },
  {
   "cell_type": "code",
   "execution_count": 32,
   "id": "bcda50c2-ec62-4140-9f86-d4e5728af48d",
   "metadata": {
    "tags": []
   },
   "outputs": [
    {
     "data": {
      "text/html": [
       "<div>\n",
       "<style scoped>\n",
       "    .dataframe tbody tr th:only-of-type {\n",
       "        vertical-align: middle;\n",
       "    }\n",
       "\n",
       "    .dataframe tbody tr th {\n",
       "        vertical-align: top;\n",
       "    }\n",
       "\n",
       "    .dataframe thead th {\n",
       "        text-align: right;\n",
       "    }\n",
       "</style>\n",
       "<table border=\"1\" class=\"dataframe\">\n",
       "  <thead>\n",
       "    <tr style=\"text-align: right;\">\n",
       "      <th></th>\n",
       "      <th>min</th>\n",
       "      <th>max</th>\n",
       "    </tr>\n",
       "  </thead>\n",
       "  <tbody>\n",
       "    <tr>\n",
       "      <th>count</th>\n",
       "      <td>5.000000</td>\n",
       "      <td>5.000000</td>\n",
       "    </tr>\n",
       "    <tr>\n",
       "      <th>mean</th>\n",
       "      <td>1265.000000</td>\n",
       "      <td>5410.000000</td>\n",
       "    </tr>\n",
       "    <tr>\n",
       "      <th>std</th>\n",
       "      <td>1115.739665</td>\n",
       "      <td>2848.771665</td>\n",
       "    </tr>\n",
       "    <tr>\n",
       "      <th>min</th>\n",
       "      <td>100.000000</td>\n",
       "      <td>1250.000000</td>\n",
       "    </tr>\n",
       "    <tr>\n",
       "      <th>25%</th>\n",
       "      <td>500.000000</td>\n",
       "      <td>5000.000000</td>\n",
       "    </tr>\n",
       "    <tr>\n",
       "      <th>50%</th>\n",
       "      <td>1300.000000</td>\n",
       "      <td>5400.000000</td>\n",
       "    </tr>\n",
       "    <tr>\n",
       "      <th>75%</th>\n",
       "      <td>1425.000000</td>\n",
       "      <td>6200.000000</td>\n",
       "    </tr>\n",
       "    <tr>\n",
       "      <th>max</th>\n",
       "      <td>3000.000000</td>\n",
       "      <td>9200.000000</td>\n",
       "    </tr>\n",
       "  </tbody>\n",
       "</table>\n",
       "</div>"
      ],
      "text/plain": [
       "               min          max\n",
       "count     5.000000     5.000000\n",
       "mean   1265.000000  5410.000000\n",
       "std    1115.739665  2848.771665\n",
       "min     100.000000  1250.000000\n",
       "25%     500.000000  5000.000000\n",
       "50%    1300.000000  5400.000000\n",
       "75%    1425.000000  6200.000000\n",
       "max    3000.000000  9200.000000"
      ]
     },
     "execution_count": 32,
     "metadata": {},
     "output_type": "execute_result"
    }
   ],
   "source": [
    "new_data.describe()"
   ]
  },
  {
   "cell_type": "markdown",
   "id": "3eafa85a-c6f4-429f-beda-ced88aa56b06",
   "metadata": {},
   "source": [
    "Створіть функцію fill_avg_salary, яка повертатиме середнє значення заробітної плати на місяць. Використовуйте її для методу apply та створіть новий стовпчик \"avg\""
   ]
  },
  {
   "cell_type": "code",
   "execution_count": 96,
   "id": "0baa7df6-67b5-4cdd-b9c9-a646f0bd0c67",
   "metadata": {
    "tags": []
   },
   "outputs": [
    {
     "data": {
      "text/html": [
       "<div>\n",
       "<style scoped>\n",
       "    .dataframe tbody tr th:only-of-type {\n",
       "        vertical-align: middle;\n",
       "    }\n",
       "\n",
       "    .dataframe tbody tr th {\n",
       "        vertical-align: top;\n",
       "    }\n",
       "\n",
       "    .dataframe thead th {\n",
       "        text-align: right;\n",
       "    }\n",
       "</style>\n",
       "<table border=\"1\" class=\"dataframe\">\n",
       "  <thead>\n",
       "    <tr style=\"text-align: right;\">\n",
       "      <th></th>\n",
       "      <th>Посада</th>\n",
       "      <th>min</th>\n",
       "      <th>max</th>\n",
       "      <th>avg</th>\n",
       "    </tr>\n",
       "  </thead>\n",
       "  <tbody>\n",
       "    <tr>\n",
       "      <th>0</th>\n",
       "      <td>Junior Software Engineer</td>\n",
       "      <td>100</td>\n",
       "      <td>1250</td>\n",
       "      <td>675.0</td>\n",
       "    </tr>\n",
       "    <tr>\n",
       "      <th>1</th>\n",
       "      <td>Senior Software Engineer</td>\n",
       "      <td>1300</td>\n",
       "      <td>9200</td>\n",
       "      <td>5250.0</td>\n",
       "    </tr>\n",
       "    <tr>\n",
       "      <th>2</th>\n",
       "      <td>Software Engineer</td>\n",
       "      <td>500</td>\n",
       "      <td>5400</td>\n",
       "      <td>2950.0</td>\n",
       "    </tr>\n",
       "    <tr>\n",
       "      <th>3</th>\n",
       "      <td>System Architect</td>\n",
       "      <td>3000</td>\n",
       "      <td>5000</td>\n",
       "      <td>4000.0</td>\n",
       "    </tr>\n",
       "    <tr>\n",
       "      <th>4</th>\n",
       "      <td>Technical Lead</td>\n",
       "      <td>1425</td>\n",
       "      <td>6200</td>\n",
       "      <td>3812.5</td>\n",
       "    </tr>\n",
       "  </tbody>\n",
       "</table>\n",
       "</div>"
      ],
      "text/plain": [
       "                     Посада   min   max     avg\n",
       "0  Junior Software Engineer   100  1250   675.0\n",
       "1  Senior Software Engineer  1300  9200  5250.0\n",
       "2         Software Engineer   500  5400  2950.0\n",
       "3          System Architect  3000  5000  4000.0\n",
       "4            Technical Lead  1425  6200  3812.5"
      ]
     },
     "execution_count": 96,
     "metadata": {},
     "output_type": "execute_result"
    }
   ],
   "source": [
    "def fill_avg_salary(row):\n",
    "    return (row['min'] + row['max']) / 2\n",
    "\n",
    "new_data['avg'] = new_data.apply(fill_avg_salary, axis=1)\n",
    "new_data = pd.DataFrame(new_data)\n",
    "new_data"
   ]
  },
  {
   "cell_type": "markdown",
   "id": "334d8f88-12d7-4eec-ab4d-130f619d3c22",
   "metadata": {
    "tags": []
   },
   "source": [
    "Додати графік"
   ]
  },
  {
   "cell_type": "code",
   "execution_count": 34,
   "id": "66401cbd-6d23-489b-a136-9cd64727a013",
   "metadata": {
    "tags": []
   },
   "outputs": [
    {
     "data": {
      "application/vnd.plotly.v1+json": {
       "config": {
        "plotlyServerURL": "https://plot.ly"
       },
       "data": [
        {
         "alignmentgroup": "True",
         "hovertemplate": "Посада=%{x}<br>avg=%{text}<extra></extra>",
         "legendgroup": "",
         "marker": {
          "color": "#636efa",
          "pattern": {
           "shape": ""
          }
         },
         "name": "",
         "offsetgroup": "",
         "orientation": "v",
         "showlegend": false,
         "text": [
          675,
          5250,
          2950,
          4000,
          3812.5
         ],
         "textposition": "auto",
         "type": "bar",
         "x": [
          "Junior Software Engineer",
          "Senior Software Engineer",
          "Software Engineer",
          "System Architect",
          "Technical Lead"
         ],
         "xaxis": "x",
         "y": [
          675,
          5250,
          2950,
          4000,
          3812.5
         ],
         "yaxis": "y"
        }
       ],
       "layout": {
        "barmode": "relative",
        "height": 700,
        "legend": {
         "tracegroupgap": 0
        },
        "template": {
         "data": {
          "bar": [
           {
            "error_x": {
             "color": "#2a3f5f"
            },
            "error_y": {
             "color": "#2a3f5f"
            },
            "marker": {
             "line": {
              "color": "#E5ECF6",
              "width": 0.5
             },
             "pattern": {
              "fillmode": "overlay",
              "size": 10,
              "solidity": 0.2
             }
            },
            "type": "bar"
           }
          ],
          "barpolar": [
           {
            "marker": {
             "line": {
              "color": "#E5ECF6",
              "width": 0.5
             },
             "pattern": {
              "fillmode": "overlay",
              "size": 10,
              "solidity": 0.2
             }
            },
            "type": "barpolar"
           }
          ],
          "carpet": [
           {
            "aaxis": {
             "endlinecolor": "#2a3f5f",
             "gridcolor": "white",
             "linecolor": "white",
             "minorgridcolor": "white",
             "startlinecolor": "#2a3f5f"
            },
            "baxis": {
             "endlinecolor": "#2a3f5f",
             "gridcolor": "white",
             "linecolor": "white",
             "minorgridcolor": "white",
             "startlinecolor": "#2a3f5f"
            },
            "type": "carpet"
           }
          ],
          "choropleth": [
           {
            "colorbar": {
             "outlinewidth": 0,
             "ticks": ""
            },
            "type": "choropleth"
           }
          ],
          "contour": [
           {
            "colorbar": {
             "outlinewidth": 0,
             "ticks": ""
            },
            "colorscale": [
             [
              0,
              "#0d0887"
             ],
             [
              0.1111111111111111,
              "#46039f"
             ],
             [
              0.2222222222222222,
              "#7201a8"
             ],
             [
              0.3333333333333333,
              "#9c179e"
             ],
             [
              0.4444444444444444,
              "#bd3786"
             ],
             [
              0.5555555555555556,
              "#d8576b"
             ],
             [
              0.6666666666666666,
              "#ed7953"
             ],
             [
              0.7777777777777778,
              "#fb9f3a"
             ],
             [
              0.8888888888888888,
              "#fdca26"
             ],
             [
              1,
              "#f0f921"
             ]
            ],
            "type": "contour"
           }
          ],
          "contourcarpet": [
           {
            "colorbar": {
             "outlinewidth": 0,
             "ticks": ""
            },
            "type": "contourcarpet"
           }
          ],
          "heatmap": [
           {
            "colorbar": {
             "outlinewidth": 0,
             "ticks": ""
            },
            "colorscale": [
             [
              0,
              "#0d0887"
             ],
             [
              0.1111111111111111,
              "#46039f"
             ],
             [
              0.2222222222222222,
              "#7201a8"
             ],
             [
              0.3333333333333333,
              "#9c179e"
             ],
             [
              0.4444444444444444,
              "#bd3786"
             ],
             [
              0.5555555555555556,
              "#d8576b"
             ],
             [
              0.6666666666666666,
              "#ed7953"
             ],
             [
              0.7777777777777778,
              "#fb9f3a"
             ],
             [
              0.8888888888888888,
              "#fdca26"
             ],
             [
              1,
              "#f0f921"
             ]
            ],
            "type": "heatmap"
           }
          ],
          "heatmapgl": [
           {
            "colorbar": {
             "outlinewidth": 0,
             "ticks": ""
            },
            "colorscale": [
             [
              0,
              "#0d0887"
             ],
             [
              0.1111111111111111,
              "#46039f"
             ],
             [
              0.2222222222222222,
              "#7201a8"
             ],
             [
              0.3333333333333333,
              "#9c179e"
             ],
             [
              0.4444444444444444,
              "#bd3786"
             ],
             [
              0.5555555555555556,
              "#d8576b"
             ],
             [
              0.6666666666666666,
              "#ed7953"
             ],
             [
              0.7777777777777778,
              "#fb9f3a"
             ],
             [
              0.8888888888888888,
              "#fdca26"
             ],
             [
              1,
              "#f0f921"
             ]
            ],
            "type": "heatmapgl"
           }
          ],
          "histogram": [
           {
            "marker": {
             "pattern": {
              "fillmode": "overlay",
              "size": 10,
              "solidity": 0.2
             }
            },
            "type": "histogram"
           }
          ],
          "histogram2d": [
           {
            "colorbar": {
             "outlinewidth": 0,
             "ticks": ""
            },
            "colorscale": [
             [
              0,
              "#0d0887"
             ],
             [
              0.1111111111111111,
              "#46039f"
             ],
             [
              0.2222222222222222,
              "#7201a8"
             ],
             [
              0.3333333333333333,
              "#9c179e"
             ],
             [
              0.4444444444444444,
              "#bd3786"
             ],
             [
              0.5555555555555556,
              "#d8576b"
             ],
             [
              0.6666666666666666,
              "#ed7953"
             ],
             [
              0.7777777777777778,
              "#fb9f3a"
             ],
             [
              0.8888888888888888,
              "#fdca26"
             ],
             [
              1,
              "#f0f921"
             ]
            ],
            "type": "histogram2d"
           }
          ],
          "histogram2dcontour": [
           {
            "colorbar": {
             "outlinewidth": 0,
             "ticks": ""
            },
            "colorscale": [
             [
              0,
              "#0d0887"
             ],
             [
              0.1111111111111111,
              "#46039f"
             ],
             [
              0.2222222222222222,
              "#7201a8"
             ],
             [
              0.3333333333333333,
              "#9c179e"
             ],
             [
              0.4444444444444444,
              "#bd3786"
             ],
             [
              0.5555555555555556,
              "#d8576b"
             ],
             [
              0.6666666666666666,
              "#ed7953"
             ],
             [
              0.7777777777777778,
              "#fb9f3a"
             ],
             [
              0.8888888888888888,
              "#fdca26"
             ],
             [
              1,
              "#f0f921"
             ]
            ],
            "type": "histogram2dcontour"
           }
          ],
          "mesh3d": [
           {
            "colorbar": {
             "outlinewidth": 0,
             "ticks": ""
            },
            "type": "mesh3d"
           }
          ],
          "parcoords": [
           {
            "line": {
             "colorbar": {
              "outlinewidth": 0,
              "ticks": ""
             }
            },
            "type": "parcoords"
           }
          ],
          "pie": [
           {
            "automargin": true,
            "type": "pie"
           }
          ],
          "scatter": [
           {
            "fillpattern": {
             "fillmode": "overlay",
             "size": 10,
             "solidity": 0.2
            },
            "type": "scatter"
           }
          ],
          "scatter3d": [
           {
            "line": {
             "colorbar": {
              "outlinewidth": 0,
              "ticks": ""
             }
            },
            "marker": {
             "colorbar": {
              "outlinewidth": 0,
              "ticks": ""
             }
            },
            "type": "scatter3d"
           }
          ],
          "scattercarpet": [
           {
            "marker": {
             "colorbar": {
              "outlinewidth": 0,
              "ticks": ""
             }
            },
            "type": "scattercarpet"
           }
          ],
          "scattergeo": [
           {
            "marker": {
             "colorbar": {
              "outlinewidth": 0,
              "ticks": ""
             }
            },
            "type": "scattergeo"
           }
          ],
          "scattergl": [
           {
            "marker": {
             "colorbar": {
              "outlinewidth": 0,
              "ticks": ""
             }
            },
            "type": "scattergl"
           }
          ],
          "scattermapbox": [
           {
            "marker": {
             "colorbar": {
              "outlinewidth": 0,
              "ticks": ""
             }
            },
            "type": "scattermapbox"
           }
          ],
          "scatterpolar": [
           {
            "marker": {
             "colorbar": {
              "outlinewidth": 0,
              "ticks": ""
             }
            },
            "type": "scatterpolar"
           }
          ],
          "scatterpolargl": [
           {
            "marker": {
             "colorbar": {
              "outlinewidth": 0,
              "ticks": ""
             }
            },
            "type": "scatterpolargl"
           }
          ],
          "scatterternary": [
           {
            "marker": {
             "colorbar": {
              "outlinewidth": 0,
              "ticks": ""
             }
            },
            "type": "scatterternary"
           }
          ],
          "surface": [
           {
            "colorbar": {
             "outlinewidth": 0,
             "ticks": ""
            },
            "colorscale": [
             [
              0,
              "#0d0887"
             ],
             [
              0.1111111111111111,
              "#46039f"
             ],
             [
              0.2222222222222222,
              "#7201a8"
             ],
             [
              0.3333333333333333,
              "#9c179e"
             ],
             [
              0.4444444444444444,
              "#bd3786"
             ],
             [
              0.5555555555555556,
              "#d8576b"
             ],
             [
              0.6666666666666666,
              "#ed7953"
             ],
             [
              0.7777777777777778,
              "#fb9f3a"
             ],
             [
              0.8888888888888888,
              "#fdca26"
             ],
             [
              1,
              "#f0f921"
             ]
            ],
            "type": "surface"
           }
          ],
          "table": [
           {
            "cells": {
             "fill": {
              "color": "#EBF0F8"
             },
             "line": {
              "color": "white"
             }
            },
            "header": {
             "fill": {
              "color": "#C8D4E3"
             },
             "line": {
              "color": "white"
             }
            },
            "type": "table"
           }
          ]
         },
         "layout": {
          "annotationdefaults": {
           "arrowcolor": "#2a3f5f",
           "arrowhead": 0,
           "arrowwidth": 1
          },
          "autotypenumbers": "strict",
          "coloraxis": {
           "colorbar": {
            "outlinewidth": 0,
            "ticks": ""
           }
          },
          "colorscale": {
           "diverging": [
            [
             0,
             "#8e0152"
            ],
            [
             0.1,
             "#c51b7d"
            ],
            [
             0.2,
             "#de77ae"
            ],
            [
             0.3,
             "#f1b6da"
            ],
            [
             0.4,
             "#fde0ef"
            ],
            [
             0.5,
             "#f7f7f7"
            ],
            [
             0.6,
             "#e6f5d0"
            ],
            [
             0.7,
             "#b8e186"
            ],
            [
             0.8,
             "#7fbc41"
            ],
            [
             0.9,
             "#4d9221"
            ],
            [
             1,
             "#276419"
            ]
           ],
           "sequential": [
            [
             0,
             "#0d0887"
            ],
            [
             0.1111111111111111,
             "#46039f"
            ],
            [
             0.2222222222222222,
             "#7201a8"
            ],
            [
             0.3333333333333333,
             "#9c179e"
            ],
            [
             0.4444444444444444,
             "#bd3786"
            ],
            [
             0.5555555555555556,
             "#d8576b"
            ],
            [
             0.6666666666666666,
             "#ed7953"
            ],
            [
             0.7777777777777778,
             "#fb9f3a"
            ],
            [
             0.8888888888888888,
             "#fdca26"
            ],
            [
             1,
             "#f0f921"
            ]
           ],
           "sequentialminus": [
            [
             0,
             "#0d0887"
            ],
            [
             0.1111111111111111,
             "#46039f"
            ],
            [
             0.2222222222222222,
             "#7201a8"
            ],
            [
             0.3333333333333333,
             "#9c179e"
            ],
            [
             0.4444444444444444,
             "#bd3786"
            ],
            [
             0.5555555555555556,
             "#d8576b"
            ],
            [
             0.6666666666666666,
             "#ed7953"
            ],
            [
             0.7777777777777778,
             "#fb9f3a"
            ],
            [
             0.8888888888888888,
             "#fdca26"
            ],
            [
             1,
             "#f0f921"
            ]
           ]
          },
          "colorway": [
           "#636efa",
           "#EF553B",
           "#00cc96",
           "#ab63fa",
           "#FFA15A",
           "#19d3f3",
           "#FF6692",
           "#B6E880",
           "#FF97FF",
           "#FECB52"
          ],
          "font": {
           "color": "#2a3f5f"
          },
          "geo": {
           "bgcolor": "white",
           "lakecolor": "white",
           "landcolor": "#E5ECF6",
           "showlakes": true,
           "showland": true,
           "subunitcolor": "white"
          },
          "hoverlabel": {
           "align": "left"
          },
          "hovermode": "closest",
          "mapbox": {
           "style": "light"
          },
          "paper_bgcolor": "white",
          "plot_bgcolor": "#E5ECF6",
          "polar": {
           "angularaxis": {
            "gridcolor": "white",
            "linecolor": "white",
            "ticks": ""
           },
           "bgcolor": "#E5ECF6",
           "radialaxis": {
            "gridcolor": "white",
            "linecolor": "white",
            "ticks": ""
           }
          },
          "scene": {
           "xaxis": {
            "backgroundcolor": "#E5ECF6",
            "gridcolor": "white",
            "gridwidth": 2,
            "linecolor": "white",
            "showbackground": true,
            "ticks": "",
            "zerolinecolor": "white"
           },
           "yaxis": {
            "backgroundcolor": "#E5ECF6",
            "gridcolor": "white",
            "gridwidth": 2,
            "linecolor": "white",
            "showbackground": true,
            "ticks": "",
            "zerolinecolor": "white"
           },
           "zaxis": {
            "backgroundcolor": "#E5ECF6",
            "gridcolor": "white",
            "gridwidth": 2,
            "linecolor": "white",
            "showbackground": true,
            "ticks": "",
            "zerolinecolor": "white"
           }
          },
          "shapedefaults": {
           "line": {
            "color": "#2a3f5f"
           }
          },
          "ternary": {
           "aaxis": {
            "gridcolor": "white",
            "linecolor": "white",
            "ticks": ""
           },
           "baxis": {
            "gridcolor": "white",
            "linecolor": "white",
            "ticks": ""
           },
           "bgcolor": "#E5ECF6",
           "caxis": {
            "gridcolor": "white",
            "linecolor": "white",
            "ticks": ""
           }
          },
          "title": {
           "x": 0.05
          },
          "xaxis": {
           "automargin": true,
           "gridcolor": "white",
           "linecolor": "white",
           "ticks": "",
           "title": {
            "standoff": 15
           },
           "zerolinecolor": "white",
           "zerolinewidth": 2
          },
          "yaxis": {
           "automargin": true,
           "gridcolor": "white",
           "linecolor": "white",
           "ticks": "",
           "title": {
            "standoff": 15
           },
           "zerolinecolor": "white",
           "zerolinewidth": 2
          }
         }
        },
        "title": {
         "text": "Спеціальності на Python та їх середнє значення заробітної плати на місяць"
        },
        "width": 1200,
        "xaxis": {
         "anchor": "y",
         "autorange": true,
         "domain": [
          0,
          1
         ],
         "range": [
          -0.5,
          4.5
         ],
         "title": {
          "text": "Назва Посади"
         },
         "type": "category"
        },
        "yaxis": {
         "anchor": "x",
         "autorange": true,
         "domain": [
          0,
          1
         ],
         "range": [
          0,
          5526.315789473684
         ],
         "title": {
          "text": "Середня зарплата ($)"
         },
         "type": "linear"
        }
       }
      },
      "image/png": "[encoded data removed]",
      "text/html": [
       "<div>                            <div id=\"95df6e0c-deab-451b-9449-ca02bace3a9f\" class=\"plotly-graph-div\" style=\"height:700px; width:1200px;\"></div>            <script type=\"text/javascript\">                require([\"plotly\"], function(Plotly) {                    window.PLOTLYENV=window.PLOTLYENV || {};                                    if (document.getElementById(\"95df6e0c-deab-451b-9449-ca02bace3a9f\")) {                    Plotly.newPlot(                        \"95df6e0c-deab-451b-9449-ca02bace3a9f\",                        [{\"alignmentgroup\":\"True\",\"hovertemplate\":\"\\u041f\\u043e\\u0441\\u0430\\u0434\\u0430=%{x}<br>avg=%{text}<extra></extra>\",\"legendgroup\":\"\",\"marker\":{\"color\":\"#636efa\",\"pattern\":{\"shape\":\"\"}},\"name\":\"\",\"offsetgroup\":\"\",\"orientation\":\"v\",\"showlegend\":false,\"text\":[675.0,5250.0,2950.0,4000.0,3812.5],\"textposition\":\"auto\",\"x\":[\"Junior Software Engineer\",\"Senior Software Engineer\",\"Software Engineer\",\"System Architect\",\"Technical Lead\"],\"xaxis\":\"x\",\"y\":[675.0,5250.0,2950.0,4000.0,3812.5],\"yaxis\":\"y\",\"type\":\"bar\"}],                        {\"template\":{\"data\":{\"histogram2dcontour\":[{\"type\":\"histogram2dcontour\",\"colorbar\":{\"outlinewidth\":0,\"ticks\":\"\"},\"colorscale\":[[0.0,\"#0d0887\"],[0.1111111111111111,\"#46039f\"],[0.2222222222222222,\"#7201a8\"],[0.3333333333333333,\"#9c179e\"],[0.4444444444444444,\"#bd3786\"],[0.5555555555555556,\"#d8576b\"],[0.6666666666666666,\"#ed7953\"],[0.7777777777777778,\"#fb9f3a\"],[0.8888888888888888,\"#fdca26\"],[1.0,\"#f0f921\"]]}],\"choropleth\":[{\"type\":\"choropleth\",\"colorbar\":{\"outlinewidth\":0,\"ticks\":\"\"}}],\"histogram2d\":[{\"type\":\"histogram2d\",\"colorbar\":{\"outlinewidth\":0,\"ticks\":\"\"},\"colorscale\":[[0.0,\"#0d0887\"],[0.1111111111111111,\"#46039f\"],[0.2222222222222222,\"#7201a8\"],[0.3333333333333333,\"#9c179e\"],[0.4444444444444444,\"#bd3786\"],[0.5555555555555556,\"#d8576b\"],[0.6666666666666666,\"#ed7953\"],[0.7777777777777778,\"#fb9f3a\"],[0.8888888888888888,\"#fdca26\"],[1.0,\"#f0f921\"]]}],\"heatmap\":[{\"type\":\"heatmap\",\"colorbar\":{\"outlinewidth\":0,\"ticks\":\"\"},\"colorscale\":[[0.0,\"#0d0887\"],[0.1111111111111111,\"#46039f\"],[0.2222222222222222,\"#7201a8\"],[0.3333333333333333,\"#9c179e\"],[0.4444444444444444,\"#bd3786\"],[0.5555555555555556,\"#d8576b\"],[0.6666666666666666,\"#ed7953\"],[0.7777777777777778,\"#fb9f3a\"],[0.8888888888888888,\"#fdca26\"],[1.0,\"#f0f921\"]]}],\"heatmapgl\":[{\"type\":\"heatmapgl\",\"colorbar\":{\"outlinewidth\":0,\"ticks\":\"\"},\"colorscale\":[[0.0,\"#0d0887\"],[0.1111111111111111,\"#46039f\"],[0.2222222222222222,\"#7201a8\"],[0.3333333333333333,\"#9c179e\"],[0.4444444444444444,\"#bd3786\"],[0.5555555555555556,\"#d8576b\"],[0.6666666666666666,\"#ed7953\"],[0.7777777777777778,\"#fb9f3a\"],[0.8888888888888888,\"#fdca26\"],[1.0,\"#f0f921\"]]}],\"contourcarpet\":[{\"type\":\"contourcarpet\",\"colorbar\":{\"outlinewidth\":0,\"ticks\":\"\"}}],\"contour\":[{\"type\":\"contour\",\"colorbar\":{\"outlinewidth\":0,\"ticks\":\"\"},\"colorscale\":[[0.0,\"#0d0887\"],[0.1111111111111111,\"#46039f\"],[0.2222222222222222,\"#7201a8\"],[0.3333333333333333,\"#9c179e\"],[0.4444444444444444,\"#bd3786\"],[0.5555555555555556,\"#d8576b\"],[0.6666666666666666,\"#ed7953\"],[0.7777777777777778,\"#fb9f3a\"],[0.8888888888888888,\"#fdca26\"],[1.0,\"#f0f921\"]]}],\"surface\":[{\"type\":\"surface\",\"colorbar\":{\"outlinewidth\":0,\"ticks\":\"\"},\"colorscale\":[[0.0,\"#0d0887\"],[0.1111111111111111,\"#46039f\"],[0.2222222222222222,\"#7201a8\"],[0.3333333333333333,\"#9c179e\"],[0.4444444444444444,\"#bd3786\"],[0.5555555555555556,\"#d8576b\"],[0.6666666666666666,\"#ed7953\"],[0.7777777777777778,\"#fb9f3a\"],[0.8888888888888888,\"#fdca26\"],[1.0,\"#f0f921\"]]}],\"mesh3d\":[{\"type\":\"mesh3d\",\"colorbar\":{\"outlinewidth\":0,\"ticks\":\"\"}}],\"scatter\":[{\"fillpattern\":{\"fillmode\":\"overlay\",\"size\":10,\"solidity\":0.2},\"type\":\"scatter\"}],\"parcoords\":[{\"type\":\"parcoords\",\"line\":{\"colorbar\":{\"outlinewidth\":0,\"ticks\":\"\"}}}],\"scatterpolargl\":[{\"type\":\"scatterpolargl\",\"marker\":{\"colorbar\":{\"outlinewidth\":0,\"ticks\":\"\"}}}],\"bar\":[{\"error_x\":{\"color\":\"#2a3f5f\"},\"error_y\":{\"color\":\"#2a3f5f\"},\"marker\":{\"line\":{\"color\":\"#E5ECF6\",\"width\":0.5},\"pattern\":{\"fillmode\":\"overlay\",\"size\":10,\"solidity\":0.2}},\"type\":\"bar\"}],\"scattergeo\":[{\"type\":\"scattergeo\",\"marker\":{\"colorbar\":{\"outlinewidth\":0,\"ticks\":\"\"}}}],\"scatterpolar\":[{\"type\":\"scatterpolar\",\"marker\":{\"colorbar\":{\"outlinewidth\":0,\"ticks\":\"\"}}}],\"histogram\":[{\"marker\":{\"pattern\":{\"fillmode\":\"overlay\",\"size\":10,\"solidity\":0.2}},\"type\":\"histogram\"}],\"scattergl\":[{\"type\":\"scattergl\",\"marker\":{\"colorbar\":{\"outlinewidth\":0,\"ticks\":\"\"}}}],\"scatter3d\":[{\"type\":\"scatter3d\",\"line\":{\"colorbar\":{\"outlinewidth\":0,\"ticks\":\"\"}},\"marker\":{\"colorbar\":{\"outlinewidth\":0,\"ticks\":\"\"}}}],\"scattermapbox\":[{\"type\":\"scattermapbox\",\"marker\":{\"colorbar\":{\"outlinewidth\":0,\"ticks\":\"\"}}}],\"scatterternary\":[{\"type\":\"scatterternary\",\"marker\":{\"colorbar\":{\"outlinewidth\":0,\"ticks\":\"\"}}}],\"scattercarpet\":[{\"type\":\"scattercarpet\",\"marker\":{\"colorbar\":{\"outlinewidth\":0,\"ticks\":\"\"}}}],\"carpet\":[{\"aaxis\":{\"endlinecolor\":\"#2a3f5f\",\"gridcolor\":\"white\",\"linecolor\":\"white\",\"minorgridcolor\":\"white\",\"startlinecolor\":\"#2a3f5f\"},\"baxis\":{\"endlinecolor\":\"#2a3f5f\",\"gridcolor\":\"white\",\"linecolor\":\"white\",\"minorgridcolor\":\"white\",\"startlinecolor\":\"#2a3f5f\"},\"type\":\"carpet\"}],\"table\":[{\"cells\":{\"fill\":{\"color\":\"#EBF0F8\"},\"line\":{\"color\":\"white\"}},\"header\":{\"fill\":{\"color\":\"#C8D4E3\"},\"line\":{\"color\":\"white\"}},\"type\":\"table\"}],\"barpolar\":[{\"marker\":{\"line\":{\"color\":\"#E5ECF6\",\"width\":0.5},\"pattern\":{\"fillmode\":\"overlay\",\"size\":10,\"solidity\":0.2}},\"type\":\"barpolar\"}],\"pie\":[{\"automargin\":true,\"type\":\"pie\"}]},\"layout\":{\"autotypenumbers\":\"strict\",\"colorway\":[\"#636efa\",\"#EF553B\",\"#00cc96\",\"#ab63fa\",\"#FFA15A\",\"#19d3f3\",\"#FF6692\",\"#B6E880\",\"#FF97FF\",\"#FECB52\"],\"font\":{\"color\":\"#2a3f5f\"},\"hovermode\":\"closest\",\"hoverlabel\":{\"align\":\"left\"},\"paper_bgcolor\":\"white\",\"plot_bgcolor\":\"#E5ECF6\",\"polar\":{\"bgcolor\":\"#E5ECF6\",\"angularaxis\":{\"gridcolor\":\"white\",\"linecolor\":\"white\",\"ticks\":\"\"},\"radialaxis\":{\"gridcolor\":\"white\",\"linecolor\":\"white\",\"ticks\":\"\"}},\"ternary\":{\"bgcolor\":\"#E5ECF6\",\"aaxis\":{\"gridcolor\":\"white\",\"linecolor\":\"white\",\"ticks\":\"\"},\"baxis\":{\"gridcolor\":\"white\",\"linecolor\":\"white\",\"ticks\":\"\"},\"caxis\":{\"gridcolor\":\"white\",\"linecolor\":\"white\",\"ticks\":\"\"}},\"coloraxis\":{\"colorbar\":{\"outlinewidth\":0,\"ticks\":\"\"}},\"colorscale\":{\"sequential\":[[0.0,\"#0d0887\"],[0.1111111111111111,\"#46039f\"],[0.2222222222222222,\"#7201a8\"],[0.3333333333333333,\"#9c179e\"],[0.4444444444444444,\"#bd3786\"],[0.5555555555555556,\"#d8576b\"],[0.6666666666666666,\"#ed7953\"],[0.7777777777777778,\"#fb9f3a\"],[0.8888888888888888,\"#fdca26\"],[1.0,\"#f0f921\"]],\"sequentialminus\":[[0.0,\"#0d0887\"],[0.1111111111111111,\"#46039f\"],[0.2222222222222222,\"#7201a8\"],[0.3333333333333333,\"#9c179e\"],[0.4444444444444444,\"#bd3786\"],[0.5555555555555556,\"#d8576b\"],[0.6666666666666666,\"#ed7953\"],[0.7777777777777778,\"#fb9f3a\"],[0.8888888888888888,\"#fdca26\"],[1.0,\"#f0f921\"]],\"diverging\":[[0,\"#8e0152\"],[0.1,\"#c51b7d\"],[0.2,\"#de77ae\"],[0.3,\"#f1b6da\"],[0.4,\"#fde0ef\"],[0.5,\"#f7f7f7\"],[0.6,\"#e6f5d0\"],[0.7,\"#b8e186\"],[0.8,\"#7fbc41\"],[0.9,\"#4d9221\"],[1,\"#276419\"]]},\"xaxis\":{\"gridcolor\":\"white\",\"linecolor\":\"white\",\"ticks\":\"\",\"title\":{\"standoff\":15},\"zerolinecolor\":\"white\",\"automargin\":true,\"zerolinewidth\":2},\"yaxis\":{\"gridcolor\":\"white\",\"linecolor\":\"white\",\"ticks\":\"\",\"title\":{\"standoff\":15},\"zerolinecolor\":\"white\",\"automargin\":true,\"zerolinewidth\":2},\"scene\":{\"xaxis\":{\"backgroundcolor\":\"#E5ECF6\",\"gridcolor\":\"white\",\"linecolor\":\"white\",\"showbackground\":true,\"ticks\":\"\",\"zerolinecolor\":\"white\",\"gridwidth\":2},\"yaxis\":{\"backgroundcolor\":\"#E5ECF6\",\"gridcolor\":\"white\",\"linecolor\":\"white\",\"showbackground\":true,\"ticks\":\"\",\"zerolinecolor\":\"white\",\"gridwidth\":2},\"zaxis\":{\"backgroundcolor\":\"#E5ECF6\",\"gridcolor\":\"white\",\"linecolor\":\"white\",\"showbackground\":true,\"ticks\":\"\",\"zerolinecolor\":\"white\",\"gridwidth\":2}},\"shapedefaults\":{\"line\":{\"color\":\"#2a3f5f\"}},\"annotationdefaults\":{\"arrowcolor\":\"#2a3f5f\",\"arrowhead\":0,\"arrowwidth\":1},\"geo\":{\"bgcolor\":\"white\",\"landcolor\":\"#E5ECF6\",\"subunitcolor\":\"white\",\"showland\":true,\"showlakes\":true,\"lakecolor\":\"white\"},\"title\":{\"x\":0.05},\"mapbox\":{\"style\":\"light\"}}},\"xaxis\":{\"anchor\":\"y\",\"domain\":[0.0,1.0],\"title\":{\"text\":\"\\u041d\\u0430\\u0437\\u0432\\u0430 \\u041f\\u043e\\u0441\\u0430\\u0434\\u0438\"}},\"yaxis\":{\"anchor\":\"x\",\"domain\":[0.0,1.0],\"title\":{\"text\":\"\\u0421\\u0435\\u0440\\u0435\\u0434\\u043d\\u044f \\u0437\\u0430\\u0440\\u043f\\u043b\\u0430\\u0442\\u0430 ($)\"}},\"legend\":{\"tracegroupgap\":0},\"title\":{\"text\":\"\\u0421\\u043f\\u0435\\u0446\\u0456\\u0430\\u043b\\u044c\\u043d\\u043e\\u0441\\u0442\\u0456 \\u043d\\u0430 Python \\u0442\\u0430 \\u0457\\u0445 \\u0441\\u0435\\u0440\\u0435\\u0434\\u043d\\u0454 \\u0437\\u043d\\u0430\\u0447\\u0435\\u043d\\u043d\\u044f \\u0437\\u0430\\u0440\\u043e\\u0431\\u0456\\u0442\\u043d\\u043e\\u0457 \\u043f\\u043b\\u0430\\u0442\\u0438 \\u043d\\u0430 \\u043c\\u0456\\u0441\\u044f\\u0446\\u044c\"},\"barmode\":\"relative\",\"height\":700,\"width\":1200},                        {\"responsive\": true}                    ).then(function(){\n",
       "                            \n",
       "var gd = document.getElementById('95df6e0c-deab-451b-9449-ca02bace3a9f');\n",
       "var x = new MutationObserver(function (mutations, observer) {{\n",
       "        var display = window.getComputedStyle(gd).display;\n",
       "        if (!display || display === 'none') {{\n",
       "            console.log([gd, 'removed!']);\n",
       "            Plotly.purge(gd);\n",
       "            observer.disconnect();\n",
       "        }}\n",
       "}});\n",
       "\n",
       "// Listen for the removal of the full notebook cells\n",
       "var notebookContainer = gd.closest('#notebook-container');\n",
       "if (notebookContainer) {{\n",
       "    x.observe(notebookContainer, {childList: true});\n",
       "}}\n",
       "\n",
       "// Listen for the clearing of the current output cell\n",
       "var outputEl = gd.closest('.output');\n",
       "if (outputEl) {{\n",
       "    x.observe(outputEl, {childList: true});\n",
       "}}\n",
       "\n",
       "                        })                };                });            </script>        </div>"
      ]
     },
     "metadata": {},
     "output_type": "display_data"
    }
   ],
   "source": [
    "fig = px.bar(new_data, x=\"Посада\", y=\"avg\", title=\"Спеціальності на Python та їх середнє значення заробітної плати на місяць\", text = \"avg\", width=1200, height=700)\n",
    "fig.update_layout(\n",
    "    xaxis_title=\"Назва Посади\",\n",
    "    yaxis_title=\"Середня зарплата ($)\"\n",
    ")\n",
    "\n",
    "fig.show()"
   ]
  },
  {
   "cell_type": "code",
   "execution_count": 52,
   "id": "27221c37-d48a-4192-81a3-8c9b411623fb",
   "metadata": {
    "tags": []
   },
   "outputs": [
    {
     "data": {
      "image/png": "[encoded data removed]",
      "text/plain": [
       "<Figure size 1800x800 with 1 Axes>"
      ]
     },
     "metadata": {},
     "output_type": "display_data"
    }
   ],
   "source": [
    "#графік, який показує кореляцію рівня англійської в айті\n",
    "\n",
    "plt.figure(figsize=(18, 8))\n",
    "sns.scatterplot(data=data, x=\"Рівень англійської\", y=\"Зарплата на місяць\", s=50)\n",
    "plt.xlabel(\"Рівень англійської\")\n",
    "plt.ylabel(\"Зарплата на місяць\")\n",
    "plt.show()\n",
    "\n"
   ]
  },
  {
   "cell_type": "markdown",
   "id": "ead7d3fd-d5b9-4f51-b470-098d4dbe83e3",
   "metadata": {
    "tags": []
   },
   "source": [
    "За графіком вище можна сказати, що чим вищий рівень англійської - тим вищий рівень зарплати можна мати"
   ]
  },
  {
   "cell_type": "code",
   "execution_count": null,
   "id": "fb3b5317-c97f-4d2d-b675-b327e68ed070",
   "metadata": {
    "tags": []
   },
   "outputs": [],
   "source": [
    "Місто"
   ]
  },
  {
   "cell_type": "code",
   "execution_count": 92,
   "id": "36d38a40-de8d-4866-9c34-d7388100a1d8",
   "metadata": {
    "tags": []
   },
   "outputs": [
    {
     "data": {
      "image/png": "[encoded data removed]",
      "text/plain": [
       "<Figure size 1600x700 with 1 Axes>"
      ]
     },
     "metadata": {},
     "output_type": "display_data"
    }
   ],
   "source": [
    "data = data[data[\"Місто\"] != \"Віддалено\"]\n",
    "data = data[data[\"Місто\"] != \"Інше\"]\n",
    "\n",
    "city_counts = data[\"Місто\"].value_counts()\n",
    "threshold = 50\n",
    "filtered_city_counts = city_counts[city_counts > threshold]\n",
    "city_counts_dict = filtered_city_counts.to_dict()\n",
    "\n",
    "plt.figure(figsize=(16, 7))\n",
    "plt.bar(city_counts_dict.keys(), city_counts_dict.values(), color='skyblue', edgecolor='black')\n",
    "\n",
    "plt.xlabel('Місто')\n",
    "plt.ylabel('Кількість')\n",
    "plt.title('Найбільше форм заповнили айтішники у містах України:')\n",
    "\n",
    "plt.show()"
   ]
  },
  {
   "cell_type": "markdown",
   "id": "78099bd4-18e9-4968-9374-97faa014ddac",
   "metadata": {},
   "source": [
    "Збережіть отриману таблицю в CSV файл\n"
   ]
  },
  {
   "cell_type": "code",
   "execution_count": 97,
   "id": "59886394-2afc-43b4-b124-b5afe0dff543",
   "metadata": {
    "tags": []
   },
   "outputs": [],
   "source": [
    "new_data.to_csv(\"Upgraded_table.csv\", index=False)"
   ]
  },
  {
   "cell_type": "code",
   "execution_count": null,
   "id": "c9421ef8-79e4-442f-bcc9-a265eb680ae5",
   "metadata": {},
   "outputs": [],
   "source": []
  }
 ],
 "metadata": {
  "kernelspec": {
   "display_name": "Python 3 (ipykernel)",
   "language": "python",
   "name": "python3"
  },
  "language_info": {
   "codemirror_mode": {
    "name": "ipython",
    "version": 3
   },
   "file_extension": ".py",
   "mimetype": "text/x-python",
   "name": "python",
   "nbconvert_exporter": "python",
   "pygments_lexer": "ipython3",
   "version": "3.11.5"
  }
 },
 "nbformat": 4,
 "nbformat_minor": 5
}
